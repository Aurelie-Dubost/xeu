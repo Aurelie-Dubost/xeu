{
 "cells": [
  {
   "cell_type": "markdown",
   "id": "d435ab90",
   "metadata": {},
   "source": [
    "### Create a Voila app for monitoring the market with customizable parameters for the underlying asset, start date, and end date\n",
    "\n",
    "Retrieve Market Data Function: Create a Python function to fetch data from Yahoo Finance. This function should take the underlying symbol, start date, and end date as input parameters.\n",
    "\n",
    "Voila App Structure: Set up a Voila app with an interactive interface. The first line of the app will contain input widgets for the user to customize the underlying symbol, start date, and end date.\n",
    "\n",
    "Tabs for Returns: Implement tabs in the app to display daily, weekly, monthly, and year-to-date (YTD) returns. Each tab will show a chart or a table representing the respective returns.\n",
    "\n",
    "Automatic Refresh: Ensure that the tabs and charts are automatically refreshed when any of the input parameters (underlying, start date, end date) are changed.\n",
    "\n",
    "Deployment: Deploy the app using Voila.\n",
    "\n",
    "Let's start by creating the Python function to fetch market data. We will use yfinance, a popular library for fetching historical market data from Yahoo Finance."
   ]
  },
  {
   "cell_type": "code",
   "execution_count": 40,
   "id": "d674a880",
   "metadata": {},
   "outputs": [],
   "source": [
    "import yfinance as yf\n",
    "import ipywidgets as widgets\n",
    "from IPython.display import display, clear_output\n",
    "import pandas as pd\n",
    "import matplotlib.pyplot as plt\n",
    "import datetime\n",
    "import traceback"
   ]
  },
  {
   "cell_type": "markdown",
   "id": "fd6fb95d",
   "metadata": {},
   "source": [
    "### Retrieve Market Data Function\n",
    "\n",
    "Data Fetching and Validation"
   ]
  },
  {
   "cell_type": "code",
   "execution_count": 52,
   "id": "4e9657d3",
   "metadata": {},
   "outputs": [],
   "source": [
    "import datetime\n",
    "import yfinance as yf\n",
    "import pandas as pd\n",
    "\n",
    "def is_valid_date_range(start_date, end_date):\n",
    "    min_date = datetime.date(1970, 1, 1)\n",
    "    max_date = datetime.date.today()\n",
    "    return min_date <= start_date <= max_date and min_date <= end_date <= max_date\n",
    "\n",
    "def fetch_market_data(underlying, start_date, end_date):\n",
    "    # Combine all date checks into a single conditional\n",
    "    if (start_date is None or end_date is None or \n",
    "        not is_valid_date_range(start_date, end_date) or\n",
    "        start_date >= end_date):\n",
    "        print(\"Invalid input: Please check start and end dates.\")\n",
    "        return None\n",
    "    \n",
    "    # Format dates for yfinance\n",
    "    formatted_start_date = start_date.strftime('%Y-%m-%d')\n",
    "    formatted_end_date = end_date.strftime('%Y-%m-%d')\n",
    "    \n",
    "    # Fetch data with progress turned off\n",
    "    data = yf.download(underlying, start=formatted_start_date, end=formatted_end_date, progress=False)\n",
    "    \n",
    "    # Check and format index to DatetimeIndex\n",
    "    if not isinstance(data.index, pd.DatetimeIndex):\n",
    "        data.index = pd.to_datetime(data.index)\n",
    "\n",
    "    # Print completion message\n",
    "    now = datetime.datetime.now()\n",
    "    print(f\"Data download completed for {underlying} at {now.strftime('%Y-%m-%d %H:%M:%S')}\")\n",
    "\n",
    "    return data\n"
   ]
  },
  {
   "cell_type": "markdown",
   "id": "4429055f",
   "metadata": {},
   "source": [
    "### Voila App Structure\n",
    "To create the Voila app, we'll use Jupyter Notebook to write the code and then use Voila to turn it into a web app. The app will have input widgets for the user to select the underlying, start date, and end date."
   ]
  },
  {
   "cell_type": "code",
   "execution_count": 53,
   "id": "bab1be33",
   "metadata": {},
   "outputs": [
    {
     "data": {
      "application/vnd.jupyter.widget-view+json": {
       "model_id": "a84db6c4578043d4b522ee971e8d831b",
       "version_major": 2,
       "version_minor": 0
      },
      "text/plain": [
       "Text(value='AAPL', description='Underlying:')"
      ]
     },
     "metadata": {},
     "output_type": "display_data"
    },
    {
     "data": {
      "application/vnd.jupyter.widget-view+json": {
       "model_id": "d4e3c60e0fe34d66a82d83dc10848b18",
       "version_major": 2,
       "version_minor": 0
      },
      "text/plain": [
       "DatePicker(value=None, description='Start Date:')"
      ]
     },
     "metadata": {},
     "output_type": "display_data"
    },
    {
     "data": {
      "application/vnd.jupyter.widget-view+json": {
       "model_id": "bfe29e4c16ec4485b69753e0345373de",
       "version_major": 2,
       "version_minor": 0
      },
      "text/plain": [
       "DatePicker(value=None, description='End Date:')"
      ]
     },
     "metadata": {},
     "output_type": "display_data"
    }
   ],
   "source": [
    "# Creating widgets for user input\n",
    "underlying_widget = widgets.Text(value='AAPL', description='Underlying:')\n",
    "start_date_widget = widgets.DatePicker(description='Start Date:')\n",
    "end_date_widget = widgets.DatePicker(description='End Date:')\n",
    "\n",
    "# Display widgets\n",
    "display(underlying_widget, start_date_widget, end_date_widget)"
   ]
  },
  {
   "cell_type": "markdown",
   "id": "1f56605e",
   "metadata": {},
   "source": [
    "### Tabs for Returns\n",
    "\n",
    "Implement the tabs for displaying different return periods - daily, weekly, monthly, and YTD (year-to-date). For each tab, we need to calculate the respective returns and display them, preferably in a chart format for better visualization.\n",
    "\n",
    "Here's a more detailed approach:\n",
    "\n",
    "Step 3: Tabs for Returns\n",
    "Calculate Returns: We need to define functions to calculate daily, weekly, monthly, and YTD returns. These functions will process the fetched market data.\n",
    "\n",
    "Display Returns in Tabs: Use ipywidgets to create tabs for each return type and display the results in a chart.\n",
    "\n",
    "Calculating Returns\n",
    "Let's define a function for each type of return. We'll use the pandas library for data manipulation and matplotlib for plotting the charts."
   ]
  },
  {
   "cell_type": "code",
   "execution_count": 54,
   "id": "dc555b00",
   "metadata": {},
   "outputs": [],
   "source": [
    "# Calculate Returns\n",
    "def calculate_daily_returns(data):\n",
    "    # Assuming 'data' is a DataFrame with closing prices\n",
    "    daily_returns = data['Close'].pct_change()\n",
    "    return daily_returns\n",
    "\n",
    "def calculate_weekly_returns(data):\n",
    "    weekly_returns = data['Close'].resample('W').ffill().pct_change()\n",
    "    return weekly_returns\n",
    "\n",
    "def calculate_monthly_returns(data):\n",
    "    monthly_returns = data['Close'].resample('M').ffill().pct_change()\n",
    "    return monthly_returns\n",
    "\n",
    "def calculate_ytd_returns(data):\n",
    "    ytd_returns = data['Close'].pct_change().cumsum()\n",
    "    return ytd_returns"
   ]
  },
  {
   "cell_type": "code",
   "execution_count": 70,
   "id": "6d19ae7f",
   "metadata": {},
   "outputs": [],
   "source": [
    "def update_tab_contents(underlying, start_date, end_date):\n",
    "    try:\n",
    "        print(\"Starting data fetch...\")\n",
    "        market_data = fetch_market_data(underlying, start_date, end_date)\n",
    "\n",
    "        clear_output(wait=True)\n",
    "        print(\"Data fetch completed.\")\n",
    "\n",
    "        if market_data is not None and not market_data.empty:\n",
    "            now = datetime.datetime.now()\n",
    "            print(f\"Data download completed for {underlying} at {now.strftime('%Y-%m-%d %H:%M:%S')}\")\n",
    "\n",
    "            for i, _ in enumerate(tab_titles):\n",
    "                print(f\"Calculating returns for {tab_titles[i]}\")\n",
    "                returns = returns_functions[i](market_data)\n",
    "\n",
    "                with tab.children[i]:\n",
    "                    clear_output(wait=True)\n",
    "                    try:\n",
    "                        print(f\"Data just before plotting for {tab_titles[i]}: {returns.head()}\")\n",
    "                        plot_returns(returns, f\"{tab_titles[i]} Returns\")\n",
    "                        print(f\"Completed plotting for {tab_titles[i]}\")\n",
    "                    except Exception as e:\n",
    "                        print(f\"An error occurred while plotting {tab_titles[i]} returns: {e}\")\n",
    "                        traceback.print_exc()\n",
    "\n",
    "        else:\n",
    "            print(\"No data to display. Please check the input parameters.\")\n",
    "            for i, _ in enumerate(tab_titles):\n",
    "                with tab.children[i]:\n",
    "                    clear_output(wait=True)\n",
    "                    print(\"No data to display for this tab.\")\n",
    "\n",
    "    except Exception as e:\n",
    "        print(f\"An error occurred in update_tab_contents: {e}\")\n",
    "        traceback.print_exc()\n"
   ]
  },
  {
   "cell_type": "code",
   "execution_count": 75,
   "id": "4ba41ef8",
   "metadata": {},
   "outputs": [],
   "source": [
    "def plot_returns(returns, title):\n",
    "    # Check if 'returns' is empty or consists entirely of NaN values\n",
    "    if returns.empty or returns.isna().all():\n",
    "        print(f\"No data to plot for {title}.\")\n",
    "        return\n",
    "\n",
    "    # Proceed with plotting\n",
    "    try:\n",
    "        plt.figure(figsize=(10, 4))\n",
    "        plt.plot(returns)\n",
    "        plt.title(title)\n",
    "        plt.xlabel('Date')\n",
    "        plt.ylabel('Returns')\n",
    "        plt.grid(True)\n",
    "        plt.show()\n",
    "    except Exception as e:\n",
    "        print(f\"An error occurred while plotting {title}: {e}\")\n"
   ]
  },
  {
   "cell_type": "markdown",
   "id": "543aefd8",
   "metadata": {},
   "source": [
    "### Widgets and Event Handling"
   ]
  },
  {
   "cell_type": "code",
   "execution_count": 76,
   "id": "fced441d",
   "metadata": {},
   "outputs": [],
   "source": [
    "# Creating widgets for user input\n",
    "underlying_widget = widgets.Text(value='AAPL', description='Underlying:')\n",
    "# Initialize widgets with default values\n",
    "current_date = datetime.date.today()\n",
    "start_date_widget = widgets.DatePicker(description='Start Date:', value=current_date - datetime.timedelta(days=30))\n",
    "end_date_widget = widgets.DatePicker(description='End Date:', value=current_date)"
   ]
  },
  {
   "cell_type": "code",
   "execution_count": 77,
   "id": "77cd9bb4",
   "metadata": {},
   "outputs": [
    {
     "name": "stdout",
     "output_type": "stream",
     "text": [
      "Data fetch completed.\n",
      "Data download completed for AAPL at 2024-01-10 23:51:23\n",
      "Calculating returns for Daily\n",
      "Calculating returns for Weekly\n",
      "Calculating returns for Monthly\n",
      "Calculating returns for YTD\n"
     ]
    }
   ],
   "source": [
    "# Event handler for updating data on user input\n",
    "def on_input_change(change):\n",
    "    print(\"Widget value changed\")\n",
    "    update_tab_contents(underlying_widget.value, start_date_widget.value, end_date_widget.value)\n",
    "\n",
    "# Observe widget changes\n",
    "underlying_widget.observe(on_input_change, names='value')\n",
    "start_date_widget.observe(on_input_change, names='value')\n",
    "end_date_widget.observe(on_input_change, names='value')\n",
    "\n",
    "# Set up tabs\n",
    "tab = widgets.Tab()\n",
    "tab_titles = ['Daily', 'Weekly', 'Monthly', 'YTD']\n",
    "returns_functions = [calculate_daily_returns, calculate_weekly_returns, calculate_monthly_returns, calculate_ytd_returns]\n",
    "tab.children = [widgets.Output() for _ in tab_titles]\n",
    "\n",
    "for i, title in enumerate(tab_titles):\n",
    "    tab.set_title(i, title)\n",
    "\n",
    "# Initial data fetch and display\n",
    "update_tab_contents(underlying_widget.value, start_date_widget.value, end_date_widget.value)\n",
    "\n",
    "# Display everything\n",
    "display(underlying_widget, start_date_widget, end_date_widget, tab)"
   ]
  },
  {
   "cell_type": "code",
   "execution_count": null,
   "id": "a12d1049",
   "metadata": {},
   "outputs": [],
   "source": []
  },
  {
   "cell_type": "code",
   "execution_count": null,
   "id": "4a204d1b",
   "metadata": {},
   "outputs": [],
   "source": []
  },
  {
   "cell_type": "code",
   "execution_count": null,
   "id": "a379a563",
   "metadata": {},
   "outputs": [],
   "source": []
  }
 ],
 "metadata": {
  "kernelspec": {
   "display_name": "Python 3",
   "language": "python",
   "name": "python3"
  },
  "language_info": {
   "codemirror_mode": {
    "name": "ipython",
    "version": 3
   },
   "file_extension": ".py",
   "mimetype": "text/x-python",
   "name": "python",
   "nbconvert_exporter": "python",
   "pygments_lexer": "ipython3",
   "version": "3.8.8"
  }
 },
 "nbformat": 4,
 "nbformat_minor": 5
}
