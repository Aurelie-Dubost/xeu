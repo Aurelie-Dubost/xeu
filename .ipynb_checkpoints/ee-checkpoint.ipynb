{
 "cells": [
  {
   "cell_type": "code",
   "execution_count": 4,
   "id": "6065b01e",
   "metadata": {},
   "outputs": [],
   "source": [
    "import numpy as np\n",
    "import pandas as pd\n",
    "import matplotlib.pyplot as plt\n",
    "from scipy.stats import norm\n",
    "from math import log, sqrt, exp"
   ]
  },
  {
   "cell_type": "code",
   "execution_count": null,
   "id": "50ae49d2",
   "metadata": {},
   "outputs": [],
   "source": [
    "# Parameters for both options (using the same strike price)\n",
    "strike_price = 4300  # Strike price\n",
    "call_premium = 50  # Premium for the call option\n",
    "put_premium = 50  # Premium for the put option"
   ]
  },
  {
   "cell_type": "code",
   "execution_count": 5,
   "id": "d28775f1",
   "metadata": {},
   "outputs": [],
   "source": [
    "# Re-creating the DataFrame with SX5E prices\n",
    "sx5e_prices = [\n",
    "    (\"2023-11-27\", 4354.41),\n",
    "    (\"2023-11-24\", 4372.10),\n",
    "    (\"2023-11-23\", 4361.32),\n",
    "    (\"2023-11-22\", 4352.02),\n",
    "    (\"2023-11-21\", 4331.90),\n",
    "    (\"2023-11-20\", 4342.41),\n",
    "    (\"2023-11-17\", 4340.77),\n",
    "    (\"2023-11-16\", 4302.45),\n",
    "    (\"2023-11-15\", 4315.53),\n",
    "    (\"2023-11-14\", 4291.72),\n",
    "    # ... data truncated for brevity\n",
    "]\n",
    "\n",
    "df_sx5e = pd.DataFrame(sx5e_prices, columns=[\"Date\", \"Close\"])\n",
    "df_sx5e[\"Date\"] = pd.to_datetime(df_sx5e[\"Date\"])"
   ]
  },
  {
   "cell_type": "code",
   "execution_count": 7,
   "id": "22c774b5",
   "metadata": {},
   "outputs": [],
   "source": [
    "# Function to calculate d1 for options\n",
    "def calculate_d1(S, K, T, r, sigma):\n",
    "    return (log(S / K) + (r + sigma**2 / 2) * T) / (sigma * sqrt(T))\n",
    "\n",
    "# Function to calculate delta for each row in the DataFrame\n",
    "def calculate_option_deltas(row):\n",
    "    T_remaining = (df_sx5e[\"Date\"].iloc[-1] - row[\"Date\"]).days / 365\n",
    "    if T_remaining > 0:\n",
    "        d1 = calculate_d1(row[\"Close\"], strike_price, T_remaining, r, volatility)\n",
    "        call_delta = norm.cdf(d1)\n",
    "        put_delta = call_delta - 1\n",
    "    else:\n",
    "        # On expiration, deltas are either 0 or 1\n",
    "        call_delta = 1 if row[\"Close\"] > strike_price else 0\n",
    "        put_delta = -1 if row[\"Close\"] < strike_price else 0\n",
    "    return pd.Series([call_delta, put_delta])"
   ]
  },
  {
   "cell_type": "code",
   "execution_count": 8,
   "id": "43d9a3a4",
   "metadata": {},
   "outputs": [
    {
     "data": {
      "image/png": "[encoded data removed]",
      "text/plain": [
       "<Figure size 864x432 with 1 Axes>"
      ]
     },
     "metadata": {
      "needs_background": "light"
     },
     "output_type": "display_data"
    },
    {
     "data": {
      "text/html": [
       "<div>\n",
       "<style scoped>\n",
       "    .dataframe tbody tr th:only-of-type {\n",
       "        vertical-align: middle;\n",
       "    }\n",
       "\n",
       "    .dataframe tbody tr th {\n",
       "        vertical-align: top;\n",
       "    }\n",
       "\n",
       "    .dataframe thead th {\n",
       "        text-align: right;\n",
       "    }\n",
       "</style>\n",
       "<table border=\"1\" class=\"dataframe\">\n",
       "  <thead>\n",
       "    <tr style=\"text-align: right;\">\n",
       "      <th></th>\n",
       "      <th>Date</th>\n",
       "      <th>Close</th>\n",
       "      <th>Call_Delta</th>\n",
       "      <th>Put_Delta</th>\n",
       "      <th>Shares_Held</th>\n",
       "      <th>Delta_Shares</th>\n",
       "      <th>Delta_Hedge_PnL</th>\n",
       "      <th>Cumulative_Delta_Hedge_PnL</th>\n",
       "    </tr>\n",
       "  </thead>\n",
       "  <tbody>\n",
       "    <tr>\n",
       "      <th>5</th>\n",
       "      <td>2023-11-20</td>\n",
       "      <td>4342.41</td>\n",
       "      <td>1</td>\n",
       "      <td>0</td>\n",
       "      <td>1</td>\n",
       "      <td>0.0</td>\n",
       "      <td>-0.0</td>\n",
       "      <td>0.0</td>\n",
       "    </tr>\n",
       "    <tr>\n",
       "      <th>6</th>\n",
       "      <td>2023-11-17</td>\n",
       "      <td>4340.77</td>\n",
       "      <td>1</td>\n",
       "      <td>0</td>\n",
       "      <td>1</td>\n",
       "      <td>0.0</td>\n",
       "      <td>0.0</td>\n",
       "      <td>0.0</td>\n",
       "    </tr>\n",
       "    <tr>\n",
       "      <th>7</th>\n",
       "      <td>2023-11-16</td>\n",
       "      <td>4302.45</td>\n",
       "      <td>1</td>\n",
       "      <td>0</td>\n",
       "      <td>1</td>\n",
       "      <td>0.0</td>\n",
       "      <td>0.0</td>\n",
       "      <td>0.0</td>\n",
       "    </tr>\n",
       "    <tr>\n",
       "      <th>8</th>\n",
       "      <td>2023-11-15</td>\n",
       "      <td>4315.53</td>\n",
       "      <td>1</td>\n",
       "      <td>0</td>\n",
       "      <td>1</td>\n",
       "      <td>0.0</td>\n",
       "      <td>-0.0</td>\n",
       "      <td>0.0</td>\n",
       "    </tr>\n",
       "    <tr>\n",
       "      <th>9</th>\n",
       "      <td>2023-11-14</td>\n",
       "      <td>4291.72</td>\n",
       "      <td>0</td>\n",
       "      <td>-1</td>\n",
       "      <td>1</td>\n",
       "      <td>0.0</td>\n",
       "      <td>0.0</td>\n",
       "      <td>0.0</td>\n",
       "    </tr>\n",
       "  </tbody>\n",
       "</table>\n",
       "</div>"
      ],
      "text/plain": [
       "        Date    Close  Call_Delta  Put_Delta  Shares_Held  Delta_Shares  \\\n",
       "5 2023-11-20  4342.41           1          0            1           0.0   \n",
       "6 2023-11-17  4340.77           1          0            1           0.0   \n",
       "7 2023-11-16  4302.45           1          0            1           0.0   \n",
       "8 2023-11-15  4315.53           1          0            1           0.0   \n",
       "9 2023-11-14  4291.72           0         -1            1           0.0   \n",
       "\n",
       "   Delta_Hedge_PnL  Cumulative_Delta_Hedge_PnL  \n",
       "5             -0.0                         0.0  \n",
       "6              0.0                         0.0  \n",
       "7              0.0                         0.0  \n",
       "8             -0.0                         0.0  \n",
       "9              0.0                         0.0  "
      ]
     },
     "execution_count": 8,
     "metadata": {},
     "output_type": "execute_result"
    }
   ],
   "source": [
    "# Apply the function to the DataFrame\n",
    "df_sx5e[['Call_Delta', 'Put_Delta']] = df_sx5e.apply(calculate_option_deltas, axis=1)\n",
    "\n",
    "# Recalculate Shares Held and Delta Shares\n",
    "df_sx5e[\"Shares_Held\"] = df_sx5e[\"Call_Delta\"] - df_sx5e[\"Put_Delta\"]\n",
    "df_sx5e[\"Delta_Shares\"] = df_sx5e[\"Shares_Held\"].diff().fillna(0)\n",
    "\n",
    "# Recalculate the Delta-Hedged PnL\n",
    "df_sx5e[\"Delta_Hedge_PnL\"] = -df_sx5e[\"Delta_Shares\"] * df_sx5e[\"Close\"].diff().fillna(0)\n",
    "df_sx5e[\"Cumulative_Delta_Hedge_PnL\"] = df_sx5e[\"Delta_Hedge_PnL\"].cumsum()\n",
    "\n",
    "# Plotting the delta-hedged performance\n",
    "plt.figure(figsize=(12, 6))\n",
    "plt.plot(df_sx5e[\"Date\"], df_sx5e[\"Cumulative_Delta_Hedge_PnL\"], label='Delta-Hedged PnL', color='orange')\n",
    "plt.title('Delta-Hedged Performance of the Option Positions')\n",
    "plt.xlabel('Date')\n",
    "plt.ylabel('PnL')\n",
    "plt.legend()\n",
    "plt.grid(True)\n",
    "plt.show()\n",
    "\n",
    "# Displaying the last few rows of the dataframe for insight\n",
    "df_sx5e[[\"Date\", \"Close\", \"Call_Delta\", \"Put_Delta\", \"Shares_Held\", \"Delta_Shares\", \"Delta_Hedge_PnL\", \"Cumulative_Delta_Hedge_PnL\"]].tail()\n"
   ]
  },
  {
   "cell_type": "code",
   "execution_count": null,
   "id": "a71365e8",
   "metadata": {},
   "outputs": [],
   "source": []
  }
 ],
 "metadata": {
  "kernelspec": {
   "display_name": "Python 3",
   "language": "python",
   "name": "python3"
  },
  "language_info": {
   "codemirror_mode": {
    "name": "ipython",
    "version": 3
   },
   "file_extension": ".py",
   "mimetype": "text/x-python",
   "name": "python",
   "nbconvert_exporter": "python",
   "pygments_lexer": "ipython3",
   "version": "3.8.8"
  }
 },
 "nbformat": 4,
 "nbformat_minor": 5
}
