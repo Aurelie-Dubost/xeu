{
 "cells": [
  {
   "cell_type": "code",
   "execution_count": 1,
   "id": "75a0a7fd",
   "metadata": {},
   "outputs": [
    {
     "data": {
      "application/vnd.jupyter.widget-view+json": {
       "model_id": "b1833e16b3c542d4b862bb75661c1454",
       "version_major": 2,
       "version_minor": 0
      },
      "text/plain": [
       "VBox(children=(HBox(children=(DatePicker(value=datetime.datetime(2023, 12, 31, 0, 0), description='Start Date'…"
      ]
     },
     "metadata": {},
     "output_type": "display_data"
    },
    {
     "name": "stdout",
     "output_type": "stream",
     "text": [
      "Error: Please select dates in the format yyyy-mm-dd.\n"
     ]
    }
   ],
   "source": [
    "import app\n",
    "from IPython.display import display\n",
    "from app import update_plots\n",
    "\n",
    "# Define the list of extended parameters\n",
    "extended_parameters = ['spot', 'atmfs', 'convexity', 'skew', 'down skew', 'up skew', 'rv', 'vrp', 'term structure']\n",
    "\n",
    "# Create an instance of the layout defined in app.py\n",
    "display(app.app_layout)\n",
    "\n",
    "# Initialize the app with initial values\n",
    "app.on_change({'type': 'change', 'name': 'value', 'new': app.start_date_picker.value})\n",
    "\n",
    "# Now you can call the update_plots function with all required arguments\n",
    "app.update_plots(app.start_date_picker.value, app.end_date_picker.value, app.underlying_selector_1.value, app.underlying_selector_2.value, app.plot_output, app.extended_parameters)"
   ]
  }
 ],
 "metadata": {
  "kernelspec": {
   "display_name": "Python 3",
   "language": "python",
   "name": "python3"
  },
  "language_info": {
   "codemirror_mode": {
    "name": "ipython",
    "version": 3
   },
   "file_extension": ".py",
   "mimetype": "text/x-python",
   "name": "python",
   "nbconvert_exporter": "python",
   "pygments_lexer": "ipython3",
   "version": "3.8.8"
  }
 },
 "nbformat": 4,
 "nbformat_minor": 5
}
