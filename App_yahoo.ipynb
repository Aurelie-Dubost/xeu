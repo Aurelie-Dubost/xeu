{
 "cells": [
  {
   "cell_type": "markdown",
   "id": "38bff3b3",
   "metadata": {},
   "source": [
    "### Create a Voila app for monitoring the market with customizable parameters for the underlying asset, start date, and end date\n",
    "\n",
    "Retrieve Market Data Function: Create a Python function to fetch data from Yahoo Finance. This function should take the underlying symbol, start date, and end date as input parameters.\n",
    "\n",
    "Voila App Structure: Set up a Voila app with an interactive interface. The first line of the app will contain input widgets for the user to customize the underlying symbol, start date, and end date.\n",
    "\n",
    "Tabs for Returns: Implement tabs in the app to display daily, weekly, monthly, and year-to-date (YTD) returns. Each tab will show a chart or a table representing the respective returns.\n",
    "\n",
    "Automatic Refresh: Ensure that the tabs and charts are automatically refreshed when any of the input parameters (underlying, start date, end date) are changed.\n",
    "\n",
    "Deployment: Deploy the app using Voila.\n",
    "\n",
    "Let's start by creating the Python function to fetch market data. We will use yfinance, a popular library for fetching historical market data from Yahoo Finance."
   ]
  },
  {
   "cell_type": "code",
   "execution_count": 10,
   "id": "1e8da014",
   "metadata": {},
   "outputs": [],
   "source": [
    "import yfinance as yf\n",
    "import ipywidgets as widgets\n",
    "from IPython.display import display, clear_output\n",
    "import matplotlib.pyplot as plt\n",
    "import datetime\n",
    "import qgrid\n",
    "import pandas as pd"
   ]
  },
  {
   "cell_type": "code",
   "execution_count": 11,
   "id": "42c79715",
   "metadata": {},
   "outputs": [],
   "source": [
    "def calculate_daily_returns(data):\n",
    "    return data['Close'].pct_change()\n",
    "\n",
    "def calculate_weekly_returns(data):\n",
    "    return data['Close'].resample('W').ffill().pct_change()\n",
    "\n",
    "def calculate_monthly_returns(data):\n",
    "    return data['Close'].resample('M').ffill().pct_change()\n",
    "\n",
    "def calculate_ytd_returns(data):\n",
    "    year_start = data.index[0].year\n",
    "    # Get data starting from the beginning of the year\n",
    "    start_of_year_data = data[f'{year_start}-01-01':]\n",
    "\n",
    "    # Check if the data is empty\n",
    "    if not start_of_year_data.empty:\n",
    "        start_price = start_of_year_data['Close'].iloc[0]\n",
    "        return (data['Close'] / start_price) - 1\n",
    "    else:\n",
    "        # Return an empty Series or handle as needed\n",
    "        return pd.Series([])"
   ]
  },
  {
   "cell_type": "code",
   "execution_count": 12,
   "id": "d108952e",
   "metadata": {},
   "outputs": [],
   "source": [
    "# Define Function to Fetch Data with Date Range\n",
    "def fetch_stock_data(ticker, start_date, end_date):\n",
    "    stock = yf.Ticker(ticker)\n",
    "    return stock.history(start=start_date, end=end_date)\n",
    "\n",
    "def plot_stock_data(data):\n",
    "    plt.figure(figsize=(10, 5))\n",
    "    plt.plot(data['Close'], label='Close Price')\n",
    "    plt.title('Stock Price Over Time')\n",
    "    plt.xlabel('Date')\n",
    "    plt.ylabel('Price')\n",
    "    plt.legend()\n",
    "    plt.grid(True)\n",
    "    plt.show()"
   ]
  },
  {
   "cell_type": "code",
   "execution_count": 13,
   "id": "b604031c",
   "metadata": {},
   "outputs": [],
   "source": [
    "def style_dataframe(df):\n",
    "    # Convert Series to DataFrame if necessary\n",
    "    if isinstance(df, pd.Series):\n",
    "        df = df.to_frame()\n",
    "\n",
    "    # Apply styling\n",
    "    return df.style.set_table_styles(\n",
    "        [{\n",
    "            'selector': 'thead',\n",
    "            'props': [\n",
    "                ('background-color', '#606060'),\n",
    "                ('color', 'white'),\n",
    "                ('font-weight', 'bold')\n",
    "            ]\n",
    "        }]\n",
    "    ).set_properties(**{\n",
    "        'background-color': '#f4f4f4',\n",
    "        'color': 'black',\n",
    "        'border-color': 'black',\n",
    "        'border-width': '1px',\n",
    "        'border-style': 'solid'\n",
    "    }).format(\"{:.2%}\")\n"
   ]
  },
  {
   "cell_type": "code",
   "execution_count": 14,
   "id": "64516578",
   "metadata": {
    "scrolled": true
   },
   "outputs": [
    {
     "data": {
      "application/vnd.jupyter.widget-view+json": {
       "model_id": "d6b3c5e36762473ea822f70188a6008b",
       "version_major": 2,
       "version_minor": 0
      },
      "text/plain": [
       "Text(value='AAPL', description='Ticker:')"
      ]
     },
     "metadata": {},
     "output_type": "display_data"
    },
    {
     "data": {
      "application/vnd.jupyter.widget-view+json": {
       "model_id": "a40f1e4a130d47db8fc3a4ad7f856f74",
       "version_major": 2,
       "version_minor": 0
      },
      "text/plain": [
       "DatePicker(value=datetime.date(2023, 1, 11), description='Start Date')"
      ]
     },
     "metadata": {},
     "output_type": "display_data"
    },
    {
     "data": {
      "application/vnd.jupyter.widget-view+json": {
       "model_id": "a248c870488f4a1c8aa11df75b701911",
       "version_major": 2,
       "version_minor": 0
      },
      "text/plain": [
       "DatePicker(value=datetime.date(2024, 1, 11), description='End Date')"
      ]
     },
     "metadata": {},
     "output_type": "display_data"
    },
    {
     "data": {
      "application/vnd.jupyter.widget-view+json": {
       "model_id": "f57b861c6c174f30aa70c188c7dbe4b7",
       "version_major": 2,
       "version_minor": 0
      },
      "text/plain": [
       "Button(description='Plot Data', style=ButtonStyle())"
      ]
     },
     "metadata": {},
     "output_type": "display_data"
    },
    {
     "data": {
      "application/vnd.jupyter.widget-view+json": {
       "model_id": "0ce7e981ac134aa9bc5192d6ff1b6d4b",
       "version_major": 2,
       "version_minor": 0
      },
      "text/plain": [
       "Output()"
      ]
     },
     "metadata": {},
     "output_type": "display_data"
    },
    {
     "ename": "ValueError",
     "evalue": "year 20222 is out of range",
     "output_type": "error",
     "traceback": [
      "\u001b[0;31m---------------------------------------------------------------------------\u001b[0m",
      "\u001b[0;31mValueError\u001b[0m                                Traceback (most recent call last)",
      "\u001b[0;32m~/opt/anaconda3/lib/python3.8/site-packages/ipywidgets/widgets/widget.py\u001b[0m in \u001b[0;36m_handle_msg\u001b[0;34m(self, msg)\u001b[0m\n\u001b[1;32m    674\u001b[0m                 \u001b[0;32mif\u001b[0m \u001b[0;34m'buffer_paths'\u001b[0m \u001b[0;32min\u001b[0m \u001b[0mdata\u001b[0m\u001b[0;34m:\u001b[0m\u001b[0;34m\u001b[0m\u001b[0;34m\u001b[0m\u001b[0m\n\u001b[1;32m    675\u001b[0m                     \u001b[0m_put_buffers\u001b[0m\u001b[0;34m(\u001b[0m\u001b[0mstate\u001b[0m\u001b[0;34m,\u001b[0m \u001b[0mdata\u001b[0m\u001b[0;34m[\u001b[0m\u001b[0;34m'buffer_paths'\u001b[0m\u001b[0;34m]\u001b[0m\u001b[0;34m,\u001b[0m \u001b[0mmsg\u001b[0m\u001b[0;34m[\u001b[0m\u001b[0;34m'buffers'\u001b[0m\u001b[0;34m]\u001b[0m\u001b[0;34m)\u001b[0m\u001b[0;34m\u001b[0m\u001b[0;34m\u001b[0m\u001b[0m\n\u001b[0;32m--> 676\u001b[0;31m                 \u001b[0mself\u001b[0m\u001b[0;34m.\u001b[0m\u001b[0mset_state\u001b[0m\u001b[0;34m(\u001b[0m\u001b[0mstate\u001b[0m\u001b[0;34m)\u001b[0m\u001b[0;34m\u001b[0m\u001b[0;34m\u001b[0m\u001b[0m\n\u001b[0m\u001b[1;32m    677\u001b[0m \u001b[0;34m\u001b[0m\u001b[0m\n\u001b[1;32m    678\u001b[0m         \u001b[0;31m# Handle a state request.\u001b[0m\u001b[0;34m\u001b[0m\u001b[0;34m\u001b[0m\u001b[0;34m\u001b[0m\u001b[0m\n",
      "\u001b[0;32m~/opt/anaconda3/lib/python3.8/site-packages/ipywidgets/widgets/widget.py\u001b[0m in \u001b[0;36mset_state\u001b[0;34m(self, sync_data)\u001b[0m\n\u001b[1;32m    543\u001b[0m                     from_json = self.trait_metadata(name, 'from_json',\n\u001b[1;32m    544\u001b[0m                                                     self._trait_from_json)\n\u001b[0;32m--> 545\u001b[0;31m                     \u001b[0mself\u001b[0m\u001b[0;34m.\u001b[0m\u001b[0mset_trait\u001b[0m\u001b[0;34m(\u001b[0m\u001b[0mname\u001b[0m\u001b[0;34m,\u001b[0m \u001b[0mfrom_json\u001b[0m\u001b[0;34m(\u001b[0m\u001b[0msync_data\u001b[0m\u001b[0;34m[\u001b[0m\u001b[0mname\u001b[0m\u001b[0;34m]\u001b[0m\u001b[0;34m,\u001b[0m \u001b[0mself\u001b[0m\u001b[0;34m)\u001b[0m\u001b[0;34m)\u001b[0m\u001b[0;34m\u001b[0m\u001b[0;34m\u001b[0m\u001b[0m\n\u001b[0m\u001b[1;32m    546\u001b[0m \u001b[0;34m\u001b[0m\u001b[0m\n\u001b[1;32m    547\u001b[0m     \u001b[0;32mdef\u001b[0m \u001b[0msend\u001b[0m\u001b[0;34m(\u001b[0m\u001b[0mself\u001b[0m\u001b[0;34m,\u001b[0m \u001b[0mcontent\u001b[0m\u001b[0;34m,\u001b[0m \u001b[0mbuffers\u001b[0m\u001b[0;34m=\u001b[0m\u001b[0;32mNone\u001b[0m\u001b[0;34m)\u001b[0m\u001b[0;34m:\u001b[0m\u001b[0;34m\u001b[0m\u001b[0;34m\u001b[0m\u001b[0m\n",
      "\u001b[0;32m~/opt/anaconda3/lib/python3.8/site-packages/ipywidgets/widgets/trait_types.py\u001b[0m in \u001b[0;36mdate_from_json\u001b[0;34m(js, manager)\u001b[0m\n\u001b[1;32m    138\u001b[0m         \u001b[0;32mreturn\u001b[0m \u001b[0;32mNone\u001b[0m\u001b[0;34m\u001b[0m\u001b[0;34m\u001b[0m\u001b[0m\n\u001b[1;32m    139\u001b[0m     \u001b[0;32melse\u001b[0m\u001b[0;34m:\u001b[0m\u001b[0;34m\u001b[0m\u001b[0;34m\u001b[0m\u001b[0m\n\u001b[0;32m--> 140\u001b[0;31m         return dt.date(\n\u001b[0m\u001b[1;32m    141\u001b[0m             \u001b[0mjs\u001b[0m\u001b[0;34m[\u001b[0m\u001b[0;34m'year'\u001b[0m\u001b[0;34m]\u001b[0m\u001b[0;34m,\u001b[0m\u001b[0;34m\u001b[0m\u001b[0;34m\u001b[0m\u001b[0m\n\u001b[1;32m    142\u001b[0m             \u001b[0mjs\u001b[0m\u001b[0;34m[\u001b[0m\u001b[0;34m'month'\u001b[0m\u001b[0;34m]\u001b[0m \u001b[0;34m+\u001b[0m \u001b[0;36m1\u001b[0m\u001b[0;34m,\u001b[0m  \u001b[0;31m# Months are 1-based in Python\u001b[0m\u001b[0;34m\u001b[0m\u001b[0;34m\u001b[0m\u001b[0m\n",
      "\u001b[0;31mValueError\u001b[0m: year 20222 is out of range"
     ]
    }
   ],
   "source": [
    "# Other imports and function definitions remain the same\n",
    "import ipywidgets as widgets\n",
    "\n",
    "# Example filter widgets\n",
    "filter_dropdown = widgets.Dropdown(\n",
    "    options=['All', 'Positive', 'Negative'],\n",
    "    value='All',\n",
    "    description='Filter:',\n",
    ")\n",
    "\n",
    "def filter_data(data, filter_value):\n",
    "    if filter_value == 'Positive':\n",
    "        return data[data > 0]\n",
    "    elif filter_value == 'Negative':\n",
    "        return data[data < 0]\n",
    "    return data\n",
    "\n",
    "def update_filtered_data(b):\n",
    "    selected_filter = filter_dropdown.value\n",
    "    # Assuming 'original_data' is your unfiltered DataFrame\n",
    "    filtered_data = filter_data(original_data, selected_filter)\n",
    "    # Now update the display with 'filtered_data'\n",
    "\n",
    "\n",
    "# Create Interactive Widgets\n",
    "ticker_input = widgets.Text(value='AAPL', description='Ticker:', disabled=False)\n",
    "\n",
    "start_date_picker = widgets.DatePicker(description='Start Date', value=datetime.date.today() - datetime.timedelta(days=365))\n",
    "end_date_picker = widgets.DatePicker(description='End Date', value=datetime.date.today())\n",
    "\n",
    "button = widgets.Button(description=\"Plot Data\")\n",
    "output = widgets.Output()\n",
    "\n",
    "def on_button_clicked(b):\n",
    "    with output:\n",
    "        clear_output(wait=True)\n",
    "        ticker = ticker_input.value\n",
    "        start_date = start_date_picker.value\n",
    "        end_date = end_date_picker.value\n",
    "        data = fetch_stock_data(ticker, start_date, end_date)\n",
    "        plot_stock_data(data)\n",
    "        \n",
    "        # Create tabs for different performances\n",
    "        tab = widgets.Tab()\n",
    "        tab_titles = ['Daily', 'Weekly', 'Monthly', 'YTD']\n",
    "        returns_functions = [calculate_daily_returns, calculate_weekly_returns, calculate_monthly_returns, calculate_ytd_returns]\n",
    "        tab.children = [widgets.Output() for _ in tab_titles]\n",
    "\n",
    "        for i, title in enumerate(tab_titles):\n",
    "            tab.set_title(i, title)\n",
    "            returns = returns_functions[i](data).dropna()\n",
    "            with tab.children[i]:\n",
    "                clear_output(wait=True)\n",
    "                # Display styled DataFrame\n",
    "                styled_df = style_dataframe(returns)\n",
    "                display(styled_df)\n",
    "\n",
    "        display(tab)\n",
    "\n",
    "\n",
    "button.on_click(on_button_clicked)\n",
    "\n",
    "# Display everything\n",
    "display(ticker_input, start_date_picker, end_date_picker, button, output)\n"
   ]
  },
  {
   "cell_type": "code",
   "execution_count": null,
   "id": "28b4cd52",
   "metadata": {},
   "outputs": [],
   "source": []
  },
  {
   "cell_type": "code",
   "execution_count": null,
   "id": "605e3757",
   "metadata": {},
   "outputs": [],
   "source": []
  },
  {
   "cell_type": "code",
   "execution_count": null,
   "id": "a636bab5",
   "metadata": {},
   "outputs": [],
   "source": []
  }
 ],
 "metadata": {
  "kernelspec": {
   "display_name": "Python 3",
   "language": "python",
   "name": "python3"
  },
  "language_info": {
   "codemirror_mode": {
    "name": "ipython",
    "version": 3
   },
   "file_extension": ".py",
   "mimetype": "text/x-python",
   "name": "python",
   "nbconvert_exporter": "python",
   "pygments_lexer": "ipython3",
   "version": "3.8.8"
  }
 },
 "nbformat": 4,
 "nbformat_minor": 5
}
