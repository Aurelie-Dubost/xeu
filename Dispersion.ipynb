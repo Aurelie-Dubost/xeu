{
 "cells": [
  {
   "cell_type": "code",
   "execution_count": 1,
   "id": "cefc4969-68ee-4aee-8d55-dc000749732e",
   "metadata": {},
   "outputs": [],
   "source": [
    "import dispersion\n",
    "import data \n",
    "from dispersion import *\n",
    "from data import *"
   ]
  },
  {
   "cell_type": "code",
   "execution_count": 6,
   "id": "546f4f65-6db0-42c8-a9cc-d220889b3872",
   "metadata": {},
   "outputs": [
    {
     "name": "stdout",
     "output_type": "stream",
     "text": [
      "Compo DataFrame:\n",
      "             Asset_A   Asset_B   Asset_C   Asset_D\n",
      "2023-12-31  0.116314  0.345135  0.144473  0.887159\n",
      "\n",
      "Vol DataFrame:\n",
      "             Asset_A   Asset_B  Asset_C   Asset_D\n",
      "2023-12-29  0.808861  0.101177  0.63397  0.653353\n"
     ]
    }
   ],
   "source": [
    "# Generate the fake data\n",
    "compo, vol = generate_fake_data()\n",
    "print(\"Compo DataFrame:\")\n",
    "print(compo.tail(1))\n",
    "print(\"\\nVol DataFrame:\")\n",
    "print(vol.tail(1))"
   ]
  },
  {
   "cell_type": "code",
   "execution_count": 7,
   "id": "94593324-0722-485c-bc56-8b3ee21ac3dc",
   "metadata": {},
   "outputs": [
    {
     "name": "stdout",
     "output_type": "stream",
     "text": [
      "\n",
      "Results:\n",
      "{'weighted_avg': Asset_A    0.522481\n",
      "Asset_B    0.520638\n",
      "Asset_D    0.532637\n",
      "Asset_C    0.503511\n",
      "dtype: float32, 'means': Asset_A    0.528860\n",
      "Asset_B    0.510085\n",
      "Asset_D    0.516080\n",
      "Asset_C    0.503511\n",
      "dtype: float32, 'medians': Asset_A    0.521674\n",
      "Asset_B    0.545836\n",
      "Asset_D    0.530672\n",
      "Asset_C    0.499018\n",
      "dtype: float32}\n"
     ]
    }
   ],
   "source": [
    "# Compute the weighted statistics\n",
    "results = compute_weighted_statistics(compo, vol, 'Asset_C', '2023-01-01', '2023-12-31')\n",
    "print(\"\\nResults:\")\n",
    "print(results)"
   ]
  },
  {
   "cell_type": "code",
   "execution_count": 8,
   "id": "95a83ac6-2ee3-480c-b1e2-0f813b2941e5",
   "metadata": {},
   "outputs": [],
   "source": [
    "# Save the DataFrames to CSV\n",
    "compo.to_csv('compo.csv')\n",
    "vol.to_csv('vol.csv')\n",
    "pd.DataFrame(results).to_csv('results.csv')"
   ]
  },
  {
   "cell_type": "code",
   "execution_count": null,
   "id": "c231aa48-599d-4d06-ac41-45c47fefc99e",
   "metadata": {},
   "outputs": [],
   "source": []
  }
 ],
 "metadata": {
  "kernelspec": {
   "display_name": "Python 3 (ipykernel)",
   "language": "python",
   "name": "python3"
  },
  "language_info": {
   "codemirror_mode": {
    "name": "ipython",
    "version": 3
   },
   "file_extension": ".py",
   "mimetype": "text/x-python",
   "name": "python",
   "nbconvert_exporter": "python",
   "pygments_lexer": "ipython3",
   "version": "3.11.7"
  }
 },
 "nbformat": 4,
 "nbformat_minor": 5
}
