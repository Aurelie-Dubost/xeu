{
 "cells": [
  {
   "cell_type": "markdown",
   "id": "f1bcf33a",
   "metadata": {},
   "source": [
    "For each choices on template dropdown, different app layout are\n",
    "\n",
    "To organize different layouts for each choice in the template dropdown efficiently, \n",
    "\n",
    "Create separate functions for each layout and then use a dictionary to map each template choice to its corresponding layout function. "
   ]
  },
  {
   "cell_type": "code",
   "execution_count": 5,
   "id": "d1ce7752",
   "metadata": {},
   "outputs": [],
   "source": [
    "import ipywidgets as widgets\n",
    "from IPython.display import display, clear_output"
   ]
  },
  {
   "cell_type": "code",
   "execution_count": 6,
   "id": "48c55c0a",
   "metadata": {},
   "outputs": [],
   "source": [
    "# Define the function to update the app layout based on the selected template\n",
    "def on_template_change(change):\n",
    "    selected_template = change['new']\n",
    "    if selected_template in template_layouts:\n",
    "        # Call the corresponding layout function\n",
    "        template_layouts[selected_template]()\n",
    "    else:\n",
    "        # If no layout is defined for the selected template, clear the output\n",
    "        clear_output()\n",
    "\n",
    "# Define the layout functions for each template choice\n",
    "def platform_layout():\n",
    "    display(platform_dropdown)\n",
    "\n",
    "def excel_layout():\n",
    "    clear_output()\n",
    "    print(\"Excel template layout\")\n",
    "\n",
    "def ppt_layout():\n",
    "    clear_output()\n",
    "    print(\"PPT template layout\")\n",
    "\n",
    "def python_layout():\n",
    "    clear_output()\n",
    "    print(\"Python template layout\")\n",
    "\n"
   ]
  },
  {
   "cell_type": "code",
   "execution_count": 9,
   "id": "97ebbcd6",
   "metadata": {},
   "outputs": [
    {
     "data": {
      "application/vnd.jupyter.widget-view+json": {
       "model_id": "6612a20852be4e3988a665e8d7e357f3",
       "version_major": 2,
       "version_minor": 0
      },
      "text/plain": [
       "Dropdown(description='Choose a Template:', options=('Platform', 'Excel', 'PPT', 'Python'), style=DescriptionSt…"
      ]
     },
     "metadata": {},
     "output_type": "display_data"
    },
    {
     "ename": "NameError",
     "evalue": "name 'platforms' is not defined",
     "output_type": "error",
     "traceback": [
      "\u001b[0;31m---------------------------------------------------------------------------\u001b[0m",
      "\u001b[0;31mNameError\u001b[0m                                 Traceback (most recent call last)",
      "\u001b[0;32m<ipython-input-9-63872c7baa02>\u001b[0m in \u001b[0;36m<module>\u001b[0;34m\u001b[0m\n\u001b[1;32m     78\u001b[0m \u001b[0;34m\u001b[0m\u001b[0m\n\u001b[1;32m     79\u001b[0m \u001b[0;31m# Initialize the platform dropdown menu options\u001b[0m\u001b[0;34m\u001b[0m\u001b[0;34m\u001b[0m\u001b[0;34m\u001b[0m\u001b[0m\n\u001b[0;32m---> 80\u001b[0;31m \u001b[0mtemplate_platforms\u001b[0m \u001b[0;34m=\u001b[0m \u001b[0;34m{\u001b[0m\u001b[0mtemplate\u001b[0m\u001b[0;34m:\u001b[0m \u001b[0;34m[\u001b[0m\u001b[0mitem\u001b[0m\u001b[0;34m[\u001b[0m\u001b[0;36m0\u001b[0m\u001b[0;34m]\u001b[0m \u001b[0;32mfor\u001b[0m \u001b[0mitem\u001b[0m \u001b[0;32min\u001b[0m \u001b[0mplatforms\u001b[0m\u001b[0;34m[\u001b[0m\u001b[0mtemplate\u001b[0m\u001b[0;34m]\u001b[0m\u001b[0;34m]\u001b[0m \u001b[0;32mfor\u001b[0m \u001b[0mtemplate\u001b[0m \u001b[0;32min\u001b[0m \u001b[0mtemplates\u001b[0m\u001b[0;34m}\u001b[0m\u001b[0;34m\u001b[0m\u001b[0;34m\u001b[0m\u001b[0m\n\u001b[0m\u001b[1;32m     81\u001b[0m \u001b[0mon_template_change\u001b[0m\u001b[0;34m(\u001b[0m\u001b[0;34m{\u001b[0m\u001b[0;34m'new'\u001b[0m\u001b[0;34m:\u001b[0m \u001b[0mtemplates\u001b[0m\u001b[0;34m[\u001b[0m\u001b[0;36m0\u001b[0m\u001b[0;34m]\u001b[0m\u001b[0;34m}\u001b[0m\u001b[0;34m)\u001b[0m\u001b[0;34m\u001b[0m\u001b[0;34m\u001b[0m\u001b[0m\n",
      "\u001b[0;32m<ipython-input-9-63872c7baa02>\u001b[0m in \u001b[0;36m<dictcomp>\u001b[0;34m(.0)\u001b[0m\n\u001b[1;32m     78\u001b[0m \u001b[0;34m\u001b[0m\u001b[0m\n\u001b[1;32m     79\u001b[0m \u001b[0;31m# Initialize the platform dropdown menu options\u001b[0m\u001b[0;34m\u001b[0m\u001b[0;34m\u001b[0m\u001b[0;34m\u001b[0m\u001b[0m\n\u001b[0;32m---> 80\u001b[0;31m \u001b[0mtemplate_platforms\u001b[0m \u001b[0;34m=\u001b[0m \u001b[0;34m{\u001b[0m\u001b[0mtemplate\u001b[0m\u001b[0;34m:\u001b[0m \u001b[0;34m[\u001b[0m\u001b[0mitem\u001b[0m\u001b[0;34m[\u001b[0m\u001b[0;36m0\u001b[0m\u001b[0;34m]\u001b[0m \u001b[0;32mfor\u001b[0m \u001b[0mitem\u001b[0m \u001b[0;32min\u001b[0m \u001b[0mplatforms\u001b[0m\u001b[0;34m[\u001b[0m\u001b[0mtemplate\u001b[0m\u001b[0;34m]\u001b[0m\u001b[0;34m]\u001b[0m \u001b[0;32mfor\u001b[0m \u001b[0mtemplate\u001b[0m \u001b[0;32min\u001b[0m \u001b[0mtemplates\u001b[0m\u001b[0;34m}\u001b[0m\u001b[0;34m\u001b[0m\u001b[0;34m\u001b[0m\u001b[0m\n\u001b[0m\u001b[1;32m     81\u001b[0m \u001b[0mon_template_change\u001b[0m\u001b[0;34m(\u001b[0m\u001b[0;34m{\u001b[0m\u001b[0;34m'new'\u001b[0m\u001b[0;34m:\u001b[0m \u001b[0mtemplates\u001b[0m\u001b[0;34m[\u001b[0m\u001b[0;36m0\u001b[0m\u001b[0;34m]\u001b[0m\u001b[0;34m}\u001b[0m\u001b[0;34m)\u001b[0m\u001b[0;34m\u001b[0m\u001b[0;34m\u001b[0m\u001b[0m\n",
      "\u001b[0;31mNameError\u001b[0m: name 'platforms' is not defined"
     ]
    }
   ],
   "source": [
    "import ipywidgets as widgets\n",
    "from IPython.display import display, clear_output\n",
    "\n",
    "# Define the function to update the app layout based on the selected template\n",
    "def on_template_change(change):\n",
    "    selected_template = change['new']\n",
    "    if selected_template in template_layouts:\n",
    "        # Call the corresponding layout function\n",
    "        template_layouts[selected_template]()\n",
    "    else:\n",
    "        # If no layout is defined for the selected template, clear the output\n",
    "        clear_output()\n",
    "\n",
    "# Define the layout functions for each template choice\n",
    "def platform_layout():\n",
    "    # Display the platform dropdown\n",
    "    display(platform_dropdown)\n",
    "    if platform_dropdown.value == 'Platform':\n",
    "        display(second_dropdown_platform)\n",
    "\n",
    "def ppt_layout():\n",
    "    # Display the layout for PPT template\n",
    "    clear_output()\n",
    "    print(\"PPT template layout\")\n",
    "    display(second_dropdown_ppt)\n",
    "\n",
    "def excel_layout():\n",
    "    # Display the layout for Excel template\n",
    "    clear_output()\n",
    "    print(\"Excel template layout\")\n",
    "\n",
    "def python_layout():\n",
    "    # Display the layout for Python template\n",
    "    clear_output()\n",
    "    print(\"Python template layout\")\n",
    "\n",
    "# Define the templates and their corresponding layout functions\n",
    "templates = [\"Platform\", \"Excel\", \"PPT\", \"Python\"]\n",
    "template_layouts = {\n",
    "    \"Platform\": platform_layout,\n",
    "    \"Excel\": excel_layout,\n",
    "    \"PPT\": ppt_layout,\n",
    "    \"Python\": python_layout\n",
    "}\n",
    "\n",
    "# Create the dropdown widget for templates\n",
    "template_dropdown = widgets.Dropdown(\n",
    "    options=templates,\n",
    "    description='Choose a Template:',\n",
    "    style={'description_width': 'initial'}\n",
    ")\n",
    "\n",
    "# Create the platform dropdown widget\n",
    "platform_dropdown = widgets.Dropdown(\n",
    "    description='Choose a Platform:',\n",
    "    style={'description_width': 'initial'}\n",
    ")\n",
    "\n",
    "# Create the second dropdown for \"Platform\" template\n",
    "second_dropdown_platform = widgets.Dropdown(\n",
    "    options=['Option 1', 'Option 2', 'Option 3'],\n",
    "    description='Choose an Option:',\n",
    "    style={'description_width': 'initial'}\n",
    ")\n",
    "\n",
    "# Create the second dropdown for \"PPT\" template\n",
    "second_dropdown_ppt = widgets.RadioButtons(\n",
    "    options=['Trade idea', 'Deep Dive', 'Data Watch'],\n",
    "    description='Choose an Option:',\n",
    "    style={'description_width': 'initial'}\n",
    ")\n",
    "\n",
    "# Display the template dropdown\n",
    "display(template_dropdown)\n",
    "\n",
    "# Update the app layout when the template is changed\n",
    "template_dropdown.observe(on_template_change, names='value')\n",
    "\n",
    "# Initialize the platform dropdown menu options\n",
    "template_platforms = {template: [item[0] for item in platforms[template]] for template in templates}\n",
    "on_template_change({'new': templates[0]})\n"
   ]
  },
  {
   "cell_type": "code",
   "execution_count": 10,
   "id": "a469b008",
   "metadata": {},
   "outputs": [
    {
     "data": {
      "application/vnd.jupyter.widget-view+json": {
       "model_id": "ecc1f39efe7546c0932dece09ba0aaf0",
       "version_major": 2,
       "version_minor": 0
      },
      "text/plain": [
       "Dropdown(description='Choose a Template:', options=('Platform', 'Excel', 'PPT', 'Python'), style=DescriptionSt…"
      ]
     },
     "metadata": {},
     "output_type": "display_data"
    },
    {
     "data": {
      "application/vnd.jupyter.widget-view+json": {
       "model_id": "7440bc1d769e410287b6f597f1179bef",
       "version_major": 2,
       "version_minor": 0
      },
      "text/plain": [
       "Dropdown(description='Choose a Platform:', layout=Layout(visibility='hidden'), options=(), style=DescriptionSt…"
      ]
     },
     "metadata": {},
     "output_type": "display_data"
    },
    {
     "data": {
      "application/vnd.jupyter.widget-view+json": {
       "model_id": "af059ed9a69b460babbad4e033b34985",
       "version_major": 2,
       "version_minor": 0
      },
      "text/plain": [
       "Dropdown(description='Choose an Option:', layout=Layout(visibility='hidden'), options=('Option 1', 'Option 2',…"
      ]
     },
     "metadata": {},
     "output_type": "display_data"
    },
    {
     "data": {
      "application/vnd.jupyter.widget-view+json": {
       "model_id": "9a4c8f74d4fa42678a20168bfb8c9dec",
       "version_major": 2,
       "version_minor": 0
      },
      "text/plain": [
       "RadioButtons(description='Choose an Option:', layout=Layout(visibility='hidden'), options=('Vol Monitor', 'Tra…"
      ]
     },
     "metadata": {},
     "output_type": "display_data"
    },
    {
     "ename": "NameError",
     "evalue": "name 'platforms' is not defined",
     "output_type": "error",
     "traceback": [
      "\u001b[0;31m---------------------------------------------------------------------------\u001b[0m",
      "\u001b[0;31mNameError\u001b[0m                                 Traceback (most recent call last)",
      "\u001b[0;32m<ipython-input-10-6391934bbd35>\u001b[0m in \u001b[0;36m<module>\u001b[0;34m\u001b[0m\n\u001b[1;32m     86\u001b[0m \u001b[0;34m\u001b[0m\u001b[0m\n\u001b[1;32m     87\u001b[0m \u001b[0;31m# Initialize the platform dropdown menu options\u001b[0m\u001b[0;34m\u001b[0m\u001b[0;34m\u001b[0m\u001b[0;34m\u001b[0m\u001b[0m\n\u001b[0;32m---> 88\u001b[0;31m \u001b[0mtemplate_platforms\u001b[0m \u001b[0;34m=\u001b[0m \u001b[0;34m{\u001b[0m\u001b[0mtemplate\u001b[0m\u001b[0;34m:\u001b[0m \u001b[0;34m[\u001b[0m\u001b[0mitem\u001b[0m\u001b[0;34m[\u001b[0m\u001b[0;36m0\u001b[0m\u001b[0;34m]\u001b[0m \u001b[0;32mfor\u001b[0m \u001b[0mitem\u001b[0m \u001b[0;32min\u001b[0m \u001b[0mplatforms\u001b[0m\u001b[0;34m[\u001b[0m\u001b[0mtemplate\u001b[0m\u001b[0;34m]\u001b[0m\u001b[0;34m]\u001b[0m \u001b[0;32mfor\u001b[0m \u001b[0mtemplate\u001b[0m \u001b[0;32min\u001b[0m \u001b[0mtemplates\u001b[0m\u001b[0;34m}\u001b[0m\u001b[0;34m\u001b[0m\u001b[0;34m\u001b[0m\u001b[0m\n\u001b[0m\u001b[1;32m     89\u001b[0m \u001b[0mon_template_change\u001b[0m\u001b[0;34m(\u001b[0m\u001b[0;34m{\u001b[0m\u001b[0;34m'new'\u001b[0m\u001b[0;34m:\u001b[0m \u001b[0mtemplates\u001b[0m\u001b[0;34m[\u001b[0m\u001b[0;36m0\u001b[0m\u001b[0;34m]\u001b[0m\u001b[0;34m}\u001b[0m\u001b[0;34m)\u001b[0m\u001b[0;34m\u001b[0m\u001b[0;34m\u001b[0m\u001b[0m\n",
      "\u001b[0;32m<ipython-input-10-6391934bbd35>\u001b[0m in \u001b[0;36m<dictcomp>\u001b[0;34m(.0)\u001b[0m\n\u001b[1;32m     86\u001b[0m \u001b[0;34m\u001b[0m\u001b[0m\n\u001b[1;32m     87\u001b[0m \u001b[0;31m# Initialize the platform dropdown menu options\u001b[0m\u001b[0;34m\u001b[0m\u001b[0;34m\u001b[0m\u001b[0;34m\u001b[0m\u001b[0m\n\u001b[0;32m---> 88\u001b[0;31m \u001b[0mtemplate_platforms\u001b[0m \u001b[0;34m=\u001b[0m \u001b[0;34m{\u001b[0m\u001b[0mtemplate\u001b[0m\u001b[0;34m:\u001b[0m \u001b[0;34m[\u001b[0m\u001b[0mitem\u001b[0m\u001b[0;34m[\u001b[0m\u001b[0;36m0\u001b[0m\u001b[0;34m]\u001b[0m \u001b[0;32mfor\u001b[0m \u001b[0mitem\u001b[0m \u001b[0;32min\u001b[0m \u001b[0mplatforms\u001b[0m\u001b[0;34m[\u001b[0m\u001b[0mtemplate\u001b[0m\u001b[0;34m]\u001b[0m\u001b[0;34m]\u001b[0m \u001b[0;32mfor\u001b[0m \u001b[0mtemplate\u001b[0m \u001b[0;32min\u001b[0m \u001b[0mtemplates\u001b[0m\u001b[0;34m}\u001b[0m\u001b[0;34m\u001b[0m\u001b[0;34m\u001b[0m\u001b[0m\n\u001b[0m\u001b[1;32m     89\u001b[0m \u001b[0mon_template_change\u001b[0m\u001b[0;34m(\u001b[0m\u001b[0;34m{\u001b[0m\u001b[0;34m'new'\u001b[0m\u001b[0;34m:\u001b[0m \u001b[0mtemplates\u001b[0m\u001b[0;34m[\u001b[0m\u001b[0;36m0\u001b[0m\u001b[0;34m]\u001b[0m\u001b[0;34m}\u001b[0m\u001b[0;34m)\u001b[0m\u001b[0;34m\u001b[0m\u001b[0;34m\u001b[0m\u001b[0m\n",
      "\u001b[0;31mNameError\u001b[0m: name 'platforms' is not defined"
     ]
    }
   ],
   "source": [
    "import ipywidgets as widgets\n",
    "from IPython.display import display, clear_output\n",
    "\n",
    "# Define the function to update the app layout based on the selected template\n",
    "def on_template_change(change):\n",
    "    selected_template = change['new']\n",
    "    if selected_template in template_layouts:\n",
    "        # Call the corresponding layout function\n",
    "        template_layouts[selected_template]()\n",
    "    else:\n",
    "        # If no layout is defined for the selected template, clear the output\n",
    "        clear_output()\n",
    "\n",
    "# Define the layout functions for each template choice\n",
    "def platform_layout():\n",
    "    # Display the platform dropdown\n",
    "    platform_dropdown.layout.visibility = 'visible'\n",
    "    second_dropdown_ppt.layout.visibility = 'hidden'\n",
    "    second_dropdown_platform.layout.visibility = 'visible'\n",
    "\n",
    "def ppt_layout():\n",
    "    # Display the layout for PPT template\n",
    "    platform_dropdown.layout.visibility = 'hidden'\n",
    "    second_dropdown_ppt.layout.visibility = 'visible'\n",
    "    second_dropdown_platform.layout.visibility = 'hidden'\n",
    "\n",
    "def excel_layout():\n",
    "    # Display the layout for Excel template\n",
    "    platform_dropdown.layout.visibility = 'hidden'\n",
    "    second_dropdown_ppt.layout.visibility = 'hidden'\n",
    "    second_dropdown_platform.layout.visibility = 'hidden'\n",
    "\n",
    "def python_layout():\n",
    "    # Display the layout for Python template\n",
    "    platform_dropdown.layout.visibility = 'hidden'\n",
    "    second_dropdown_ppt.layout.visibility = 'hidden'\n",
    "    second_dropdown_platform.layout.visibility = 'hidden'\n",
    "\n",
    "# Define the templates and their corresponding layout functions\n",
    "templates = [\"Platform\", \"Excel\", \"PPT\", \"Python\"]\n",
    "template_layouts = {\n",
    "    \"Platform\": platform_layout,\n",
    "    \"Excel\": excel_layout,\n",
    "    \"PPT\": ppt_layout,\n",
    "    \"Python\": python_layout\n",
    "}\n",
    "\n",
    "# Create the dropdown widget for templates\n",
    "template_dropdown = widgets.Dropdown(\n",
    "    options=templates,\n",
    "    description='Choose a Template:',\n",
    "    style={'description_width': 'initial'}\n",
    ")\n",
    "\n",
    "# Create the platform dropdown widget\n",
    "platform_dropdown = widgets.Dropdown(\n",
    "    description='Choose a Platform:',\n",
    "    style={'description_width': 'initial'},\n",
    "    layout={'visibility': 'hidden'}\n",
    ")\n",
    "\n",
    "# Create the second dropdown for \"Platform\" template\n",
    "second_dropdown_platform = widgets.Dropdown(\n",
    "    options=['Option 1', 'Option 2', 'Option 3'],\n",
    "    description='Choose an Option:',\n",
    "    style={'description_width': 'initial'},\n",
    "    layout={'visibility': 'hidden'}\n",
    ")\n",
    "\n",
    "# Create the second dropdown for \"PPT\" template\n",
    "second_dropdown_ppt = widgets.RadioButtons(\n",
    "    options=['Vol Monitor','Trade idea', 'Deep Dive', 'Data Watch'],\n",
    "    description='Choose an Option:',\n",
    "    style={'description_width': 'initial'},\n",
    "    layout={'visibility': 'hidden'}\n",
    ")\n",
    "\n",
    "# Display the dropdowns\n",
    "display(template_dropdown)\n",
    "display(platform_dropdown)\n",
    "display(second_dropdown_platform)\n",
    "display(second_dropdown_ppt)\n",
    "\n",
    "# Update the app layout when the template is changed\n",
    "template_dropdown.observe(on_template_change, names='value')\n",
    "\n",
    "# Initialize the platform dropdown menu options\n",
    "template_platforms = {template: [item[0] for item in platforms[template]] for template in templates}\n",
    "on_template_change({'new': templates[0]})\n"
   ]
  },
  {
   "cell_type": "code",
   "execution_count": null,
   "id": "3e00fb81",
   "metadata": {},
   "outputs": [],
   "source": []
  }
 ],
 "metadata": {
  "kernelspec": {
   "display_name": "Python 3",
   "language": "python",
   "name": "python3"
  },
  "language_info": {
   "codemirror_mode": {
    "name": "ipython",
    "version": 3
   },
   "file_extension": ".py",
   "mimetype": "text/x-python",
   "name": "python",
   "nbconvert_exporter": "python",
   "pygments_lexer": "ipython3",
   "version": "3.8.8"
  }
 },
 "nbformat": 4,
 "nbformat_minor": 5
}
