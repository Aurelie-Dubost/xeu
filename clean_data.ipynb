{
 "cells": [
  {
   "cell_type": "code",
   "execution_count": 1,
   "id": "4d3bf088-e58f-49e8-85c7-faa6ca1e8aee",
   "metadata": {},
   "outputs": [],
   "source": [
    "def align_and_merge_dataframes(df_dict, fill_method='bfill'):\n",
    "    \"\"\"\n",
    "    Aligns and merges multiple daily DataFrames into a single DataFrame without NaN values.\n",
    "    Replace NaN with next/previous value in the beginning/end \n",
    "\n",
    "    Parameters:\n",
    "    - df_dict (dict): A dictionary where keys are the desired column names in the merged DataFrame,\n",
    "                      and values are pandas DataFrames with a DateTimeIndex.\n",
    "    - fill_method (str): Method to fill NaN values. Options include 'bfill', 'ffill', 'interpolate'.\n",
    "\n",
    "    Returns:\n",
    "    - pd.DataFrame: The merged DataFrame containing all aligned data without NaN values.\n",
    "    \"\"\"\n",
    "    if not df_dict:\n",
    "        raise ValueError(\"The input dictionary of DataFrames is empty.\")\n",
    "\n",
    "    # Ensure all DataFrames have a DateTimeIndex\n",
    "    for name, df in df_dict.items():\n",
    "        if not isinstance(df.index, pd.DatetimeIndex):\n",
    "            raise TypeError(f\"The DataFrame for '{name}' does not have a DateTimeIndex.\")\n",
    "\n",
    "    # 1. Determine Global Start and End Dates\n",
    "    start_date = min(df.index.min() for df in df_dict.values())\n",
    "    end_date = max(df.index.max() for df in df_dict.values())\n",
    "\n",
    "    # 2. Create Master Daily Date Range\n",
    "    master_freq = 'D'\n",
    "    master_dates = pd.date_range(start=start_date, end=end_date, freq=master_freq)\n",
    "\n",
    "    # 3. Reindex and Fill Each DataFrame\n",
    "    filled_dfs = {}\n",
    "    for name, df in df_dict.items():\n",
    "        # Reindex to master_dates\n",
    "        reindexed_df = df.reindex(master_dates)\n",
    "\n",
    "        # Fill NaNs based on the specified method\n",
    "        if fill_method == 'bfill':\n",
    "            filled_df = reindexed_df.bfill()\n",
    "        elif fill_method == 'ffill':\n",
    "            filled_df = reindexed_df.ffill()\n",
    "        elif fill_method == 'interpolate':\n",
    "            filled_df = reindexed_df.interpolate(method='linear')\n",
    "        else:\n",
    "            raise ValueError(\"fill_method must be 'bfill', 'ffill', or 'interpolate'\")\n",
    "\n",
    "        # After filling, handle remaining NaNs (if any)\n",
    "        filled_df = filled_df.fillna(method='ffill').fillna(method='bfill')\n",
    "\n",
    "        filled_dfs[name] = filled_df\n",
    "\n",
    "    # 4. Merge All DataFrames\n",
    "    merged_df = pd.concat(filled_dfs.values(), axis=1)\n",
    "    merged_df.columns = filled_dfs.keys()\n",
    "\n",
    "    # 5. Verify No NaN Values\n",
    "    nan_counts = merged_df.isnull().sum()\n",
    "    if nan_counts.sum() == 0:\n",
    "        print(\"Merged DataFrame:\")\n",
    "        print(merged_df)\n",
    "        print(\"\\nMerged DataFrame successfully created with no NaN values.\")\n",
    "    else:\n",
    "        print(\"There are still NaN values in the merged DataFrame:\")\n",
    "        print(merged_df[merged_df.isnull().any(axis=1)])\n",
    "\n",
    "    return merged_df"
   ]
  },
  {
   "cell_type": "code",
   "execution_count": 8,
   "id": "b677f2a4-6420-4cba-bdcf-388bb1981560",
   "metadata": {},
   "outputs": [
    {
     "name": "stdout",
     "output_type": "stream",
     "text": [
      "Merged DataFrame:\n",
      "             sales  temperature  humidity\n",
      "2023-01-01   500.0         22.0      80.0\n",
      "2023-01-02   600.0         22.0      82.0\n",
      "2023-01-03   600.0         23.0      83.0\n",
      "2023-01-04   700.0         24.0      83.0\n",
      "2023-01-05   800.0         24.0      85.0\n",
      "2023-01-06   800.0         26.0      85.0\n",
      "2023-01-07   900.0         27.0      87.0\n",
      "2023-01-08  1000.0         27.0      87.0\n",
      "2023-01-09  1100.0         30.0      87.0\n",
      "2023-01-10  1200.0         30.0      87.0\n",
      "\n",
      "Merged DataFrame successfully created with no NaN values.\n"
     ]
    }
   ],
   "source": [
    "import pandas as pd\n",
    "import numpy as np\n",
    "\n",
    "def align_and_merge_dataframes(df_dict, fill_method='ffill'):\n",
    "    \"\"\"\n",
    "    Aligns and merges multiple daily DataFrames into a single DataFrame without NaN values.\n",
    "\n",
    "    Parameters:\n",
    "    - df_dict (dict): A dictionary where keys are the desired column names in the merged DataFrame,\n",
    "                      and values are pandas DataFrames with a DateTimeIndex.\n",
    "    - fill_method (str): Primary method to fill NaN values. Options include 'ffill', 'bfill', 'interpolate'.\n",
    "\n",
    "    Returns:\n",
    "    - pd.DataFrame: The merged DataFrame containing all aligned data without NaN values.\n",
    "    \"\"\"\n",
    "    if not df_dict:\n",
    "        raise ValueError(\"The input dictionary of DataFrames is empty.\")\n",
    "\n",
    "    # Ensure all DataFrames have a DateTimeIndex\n",
    "    for name, df in df_dict.items():\n",
    "        if not isinstance(df.index, pd.DatetimeIndex):\n",
    "            raise TypeError(f\"The DataFrame for '{name}' does not have a DateTimeIndex.\")\n",
    "\n",
    "    # 1. Determine Global Start and End Dates\n",
    "    start_date = min(df.index.min() for df in df_dict.values())\n",
    "    end_date = max(df.index.max() for df in df_dict.values())\n",
    "\n",
    "    # 2. Create Master Daily Date Range\n",
    "    master_freq = 'D'\n",
    "    master_dates = pd.date_range(start=start_date, end=end_date, freq=master_freq)\n",
    "\n",
    "    # 3. Reindex and Fill Each DataFrame\n",
    "    filled_dfs = {}\n",
    "    for name, df in df_dict.items():\n",
    "        # Reindex to master_dates\n",
    "        reindexed_df = df.reindex(master_dates)\n",
    "\n",
    "        # Fill NaNs based on the specified method\n",
    "        if fill_method == 'ffill':\n",
    "            filled_df = reindexed_df.ffill()\n",
    "        elif fill_method == 'bfill':\n",
    "            filled_df = reindexed_df.bfill()\n",
    "        elif fill_method == 'interpolate':\n",
    "            filled_df = reindexed_df.interpolate(method='linear')\n",
    "        else:\n",
    "            raise ValueError(\"fill_method must be 'ffill', 'bfill', or 'interpolate'\")\n",
    "\n",
    "        # Apply both ffill and bfill to ensure all NaNs are filled\n",
    "        filled_df = filled_df.ffill().bfill()\n",
    "\n",
    "        filled_dfs[name] = filled_df\n",
    "\n",
    "    # 4. Merge All DataFrames\n",
    "    merged_df = pd.concat(filled_dfs.values(), axis=1)\n",
    "    merged_df.columns = filled_dfs.keys()\n",
    "\n",
    "    # 5. Verify No NaN Values\n",
    "    if merged_df.isnull().values.any():\n",
    "        print(\"There are still NaN values in the merged DataFrame:\")\n",
    "        print(merged_df[merged_df.isnull().any(axis=1)])\n",
    "    else:\n",
    "        print(\"Merged DataFrame:\")\n",
    "        print(merged_df)\n",
    "        print(\"\\nMerged DataFrame successfully created with no NaN values.\")\n",
    "\n",
    "    return merged_df\n",
    "\n",
    "# Example Usage\n",
    "if __name__ == \"__main__\":\n",
    "    # 1. Create Sample Daily DataFrames with Different DateTimeIndices\n",
    "\n",
    "    # a. Sales DataFrame with missing dates (e.g., '2023-01-03' and '2023-01-06' have NaNs)\n",
    "    dates_sales = pd.date_range(start='2023-01-01', end='2023-01-10', freq='D')\n",
    "    sales_values = [500, 600, np.nan, 700, 800, np.nan, 900, 1000, 1100, 1200]\n",
    "    df_sales = pd.DataFrame({'sales': sales_values}, index=dates_sales)\n",
    "\n",
    "    # b. Temperature DataFrame with missing dates (e.g., '2023-01-05' and '2023-01-08' have NaNs)\n",
    "    dates_temp = pd.date_range(start='2023-01-02', end='2023-01-09', freq='D')\n",
    "    temperature_values = [22, 23, 24, np.nan, 26, 27, np.nan, 30]\n",
    "    df_temperature = pd.DataFrame({'temperature': temperature_values}, index=dates_temp)\n",
    "\n",
    "    # c. Humidity DataFrame with missing dates (e.g., '2023-01-04' and '2023-01-07' have NaNs)\n",
    "    dates_humidity = pd.date_range(start='2023-01-01', end='2023-01-07', freq='D')\n",
    "    humidity_values = [80, 82, 83, np.nan, 85, np.nan, 87]\n",
    "    df_humidity = pd.DataFrame({'humidity': humidity_values}, index=dates_humidity)\n",
    "\n",
    "    # 2. Create a dictionary of DataFrames\n",
    "    dfs = {\n",
    "        'sales': df_sales,\n",
    "        'temperature': df_temperature,\n",
    "        'humidity': df_humidity\n",
    "    }\n",
    "\n",
    "    # 3. Call the function to merge and fill NaNs\n",
    "    merged_df = align_and_merge_dataframes(dfs, fill_method='ffill')\n"
   ]
  },
  {
   "cell_type": "code",
   "execution_count": 9,
   "id": "91b48b2f-643a-48ef-bcfc-3aa05c24ec25",
   "metadata": {},
   "outputs": [
    {
     "data": {
      "text/plain": [
       "DatetimeIndex(['2023-01-01', '2023-01-02', '2023-01-03', '2023-01-04',\n",
       "               '2023-01-05', '2023-01-06', '2023-01-07', '2023-01-08',\n",
       "               '2023-01-09', '2023-01-10'],\n",
       "              dtype='datetime64[ns]', freq='D')"
      ]
     },
     "execution_count": 9,
     "metadata": {},
     "output_type": "execute_result"
    }
   ],
   "source": [
    "dates_sales"
   ]
  },
  {
   "cell_type": "code",
   "execution_count": 10,
   "id": "c660c820-f249-4be6-8de2-f1f7a16e05ed",
   "metadata": {},
   "outputs": [
    {
     "data": {
      "text/plain": [
       "DatetimeIndex(['2023-01-02', '2023-01-03', '2023-01-04', '2023-01-05',\n",
       "               '2023-01-06', '2023-01-07', '2023-01-08', '2023-01-09'],\n",
       "              dtype='datetime64[ns]', freq='D')"
      ]
     },
     "execution_count": 10,
     "metadata": {},
     "output_type": "execute_result"
    }
   ],
   "source": [
    "dates_temp"
   ]
  },
  {
   "cell_type": "code",
   "execution_count": 11,
   "id": "4d581cda-7cb6-4304-a1ae-f510199d31ba",
   "metadata": {},
   "outputs": [
    {
     "data": {
      "text/plain": [
       "DatetimeIndex(['2023-01-01', '2023-01-02', '2023-01-03', '2023-01-04',\n",
       "               '2023-01-05', '2023-01-06', '2023-01-07'],\n",
       "              dtype='datetime64[ns]', freq='D')"
      ]
     },
     "execution_count": 11,
     "metadata": {},
     "output_type": "execute_result"
    }
   ],
   "source": [
    "dates_humidity"
   ]
  },
  {
   "cell_type": "code",
   "execution_count": 12,
   "id": "40dce479-125c-47f7-8c12-665e54c98d7e",
   "metadata": {},
   "outputs": [
    {
     "data": {
      "text/html": [
       "<div>\n",
       "<style scoped>\n",
       "    .dataframe tbody tr th:only-of-type {\n",
       "        vertical-align: middle;\n",
       "    }\n",
       "\n",
       "    .dataframe tbody tr th {\n",
       "        vertical-align: top;\n",
       "    }\n",
       "\n",
       "    .dataframe thead th {\n",
       "        text-align: right;\n",
       "    }\n",
       "</style>\n",
       "<table border=\"1\" class=\"dataframe\">\n",
       "  <thead>\n",
       "    <tr style=\"text-align: right;\">\n",
       "      <th></th>\n",
       "      <th>temperature</th>\n",
       "    </tr>\n",
       "  </thead>\n",
       "  <tbody>\n",
       "    <tr>\n",
       "      <th>2023-01-02</th>\n",
       "      <td>22.0</td>\n",
       "    </tr>\n",
       "    <tr>\n",
       "      <th>2023-01-03</th>\n",
       "      <td>23.0</td>\n",
       "    </tr>\n",
       "    <tr>\n",
       "      <th>2023-01-04</th>\n",
       "      <td>24.0</td>\n",
       "    </tr>\n",
       "    <tr>\n",
       "      <th>2023-01-05</th>\n",
       "      <td>NaN</td>\n",
       "    </tr>\n",
       "    <tr>\n",
       "      <th>2023-01-06</th>\n",
       "      <td>26.0</td>\n",
       "    </tr>\n",
       "    <tr>\n",
       "      <th>2023-01-07</th>\n",
       "      <td>27.0</td>\n",
       "    </tr>\n",
       "    <tr>\n",
       "      <th>2023-01-08</th>\n",
       "      <td>NaN</td>\n",
       "    </tr>\n",
       "    <tr>\n",
       "      <th>2023-01-09</th>\n",
       "      <td>30.0</td>\n",
       "    </tr>\n",
       "  </tbody>\n",
       "</table>\n",
       "</div>"
      ],
      "text/plain": [
       "            temperature\n",
       "2023-01-02         22.0\n",
       "2023-01-03         23.0\n",
       "2023-01-04         24.0\n",
       "2023-01-05          NaN\n",
       "2023-01-06         26.0\n",
       "2023-01-07         27.0\n",
       "2023-01-08          NaN\n",
       "2023-01-09         30.0"
      ]
     },
     "execution_count": 12,
     "metadata": {},
     "output_type": "execute_result"
    }
   ],
   "source": [
    "df_temperature"
   ]
  },
  {
   "cell_type": "code",
   "execution_count": null,
   "id": "299bbf29-08b1-4fa5-b086-203de939863b",
   "metadata": {},
   "outputs": [],
   "source": []
  }
 ],
 "metadata": {
  "kernelspec": {
   "display_name": "Python 3 (ipykernel)",
   "language": "python",
   "name": "python3"
  },
  "language_info": {
   "codemirror_mode": {
    "name": "ipython",
    "version": 3
   },
   "file_extension": ".py",
   "mimetype": "text/x-python",
   "name": "python",
   "nbconvert_exporter": "python",
   "pygments_lexer": "ipython3",
   "version": "3.11.7"
  }
 },
 "nbformat": 4,
 "nbformat_minor": 5
}
