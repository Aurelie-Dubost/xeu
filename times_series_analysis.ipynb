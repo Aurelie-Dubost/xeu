{
 "cells": [
  {
   "cell_type": "code",
   "execution_count": 14,
   "id": "8af6acd8-7260-49d1-9be4-68175bd4c0a5",
   "metadata": {},
   "outputs": [],
   "source": [
    "import pandas as pd\n",
    "import numpy as np\n",
    "import yfinance as yf"
   ]
  },
  {
   "cell_type": "markdown",
   "id": "977bc7b3-93d5-4e1e-ac34-e654d2f0778f",
   "metadata": {},
   "source": [
    "- Filter the data with filter_vol_periods.\n",
    "- Compute the time-to-threshold using time_to_threshold.\n",
    "- Extract pre- and post-threshold slices for detailed analysis with extract_pre_post_data.\n",
    "- Visualize with plot_isolated_periods."
   ]
  },
  {
   "cell_type": "markdown",
   "id": "96b648b4-f98b-495a-9198-8a6d857fa99b",
   "metadata": {
    "jp-MarkdownHeadingCollapsed": true
   },
   "source": [
    "### Inputs"
   ]
  },
  {
   "cell_type": "code",
   "execution_count": 15,
   "id": "926e6df2-a892-4d39-a0ce-cb2e22e9ea84",
   "metadata": {},
   "outputs": [],
   "source": [
    "base_value = 20 \n",
    "threshold = 30"
   ]
  },
  {
   "cell_type": "markdown",
   "id": "58e05c57-1584-4ed9-9d0f-67f798db73ea",
   "metadata": {
    "jp-MarkdownHeadingCollapsed": true
   },
   "source": [
    "### Functions"
   ]
  },
  {
   "cell_type": "code",
   "execution_count": 16,
   "id": "50e3cb8c-a733-4688-8bb7-093950cfc8ca",
   "metadata": {},
   "outputs": [],
   "source": [
    "def calculate_rolling_volatility(price_series, window=65):\n",
    "    \"\"\"\n",
    "    Calculate the rolling volatility over a specified window.\n",
    "    \n",
    "    Parameters:\n",
    "    - price_series (pd.Series): A series of price data.\n",
    "    - window (int): The rolling window size in days (default is 65 days).\n",
    "    \n",
    "    Returns:\n",
    "    - rolling_volatility (pd.Series): The rolling volatility as a percentage.\n",
    "    \"\"\"\n",
    "    # Calculate daily returns\n",
    "    daily_returns = price_series.pct_change()\n",
    "    \n",
    "    # Calculate rolling standard deviation of daily returns\n",
    "    rolling_volatility = daily_returns.rolling(window=window).std() * (252**0.5)  # Annualized volatility\n",
    "    \n",
    "    return rolling_volatility"
   ]
  },
  {
   "cell_type": "markdown",
   "id": "c63cc637-a28a-4e30-b6e1-713b268b356e",
   "metadata": {},
   "source": [
    "#### 1. Filter Series by Threshold"
   ]
  },
  {
   "cell_type": "markdown",
   "id": "8aec3097-684f-46e2-b4b9-fecf0cb68a8f",
   "metadata": {},
   "source": [
    "Purpose: Identify and isolate periods where volatility exceeds a specific threshold starting from a base value or time.\n",
    "Function Name: filter_vol_periods(series, base_value, threshold)\n",
    "Inputs: Time series, base value (initial volatility or date), threshold (e.g., 30).\n",
    "Output: List of isolated periods."
   ]
  },
  {
   "cell_type": "code",
   "execution_count": 17,
   "id": "9bcb574b-fb97-4091-8b9a-9eee8c74b922",
   "metadata": {},
   "outputs": [],
   "source": [
    "def filter_vol_periods(series, base_value, threshold):\n",
    "    \"\"\"\n",
    "    Filter a time series to identify and isolate periods where the volatility transitions\n",
    "    from a base value to a threshold, ensuring it drops below the base value before starting a new period.\n",
    "\n",
    "    Parameters:\n",
    "    - series (pd.Series): The time series of volatility data.\n",
    "    - base_value (float): The starting value to track the rise to the threshold.\n",
    "    - threshold (float): The threshold value to mark the peak of a period.\n",
    "\n",
    "    Returns:\n",
    "    - periods_df (pd.DataFrame): A DataFrame summarizing each period with min and max data.\n",
    "    \"\"\"\n",
    "    import pandas as pd\n",
    "\n",
    "    # Ensure the series is sorted by index\n",
    "    series = series.sort_index()\n",
    "\n",
    "    # Initialize variables\n",
    "    periods = []\n",
    "    tracking = False\n",
    "    current_period = []\n",
    "    peak_reached = False  # Initialize peak_reached\n",
    "\n",
    "    for date, value in series.items():\n",
    "        if not tracking and value >= base_value:\n",
    "            # Start tracking a new period when the base value is crossed\n",
    "            tracking = True\n",
    "            current_period = [(date, value)]\n",
    "        elif tracking:\n",
    "            current_period.append((date, value))\n",
    "            if value >= threshold and not peak_reached:\n",
    "                # Mark the peak\n",
    "                peak_reached = True\n",
    "\n",
    "            if peak_reached and value < base_value:\n",
    "                # End the period once it goes back below the base value\n",
    "                periods.append(pd.Series(dict(current_period)))\n",
    "                tracking = False  # Stop tracking this period\n",
    "                current_period = []  # Reset for the next period\n",
    "                peak_reached = False  # Reset the peak flag\n",
    "\n",
    "    # Combine periods into a single DataFrame\n",
    "    if periods:\n",
    "        periods_df = pd.concat(periods, axis=1)\n",
    "        periods_df.columns = [f\"Period_{i+1}\" for i in range(len(periods))]\n",
    "    else:\n",
    "        # If no periods found, return an empty DataFrame\n",
    "        periods_df = pd.DataFrame()\n",
    "\n",
    "    return periods_df"
   ]
  },
  {
   "cell_type": "markdown",
   "id": "b92bd786-b745-4a27-8d45-a0c5656d6101",
   "metadata": {
    "jp-MarkdownHeadingCollapsed": true
   },
   "source": [
    "### Data"
   ]
  },
  {
   "cell_type": "code",
   "execution_count": 18,
   "id": "ae1533ba-b776-416b-9b6d-b0fd2e7ed6c3",
   "metadata": {},
   "outputs": [
    {
     "name": "stderr",
     "output_type": "stream",
     "text": [
      "[*********************100%%**********************]  1 of 1 completed\n"
     ]
    },
    {
     "data": {
      "text/html": [
       "<div>\n",
       "<style scoped>\n",
       "    .dataframe tbody tr th:only-of-type {\n",
       "        vertical-align: middle;\n",
       "    }\n",
       "\n",
       "    .dataframe tbody tr th {\n",
       "        vertical-align: top;\n",
       "    }\n",
       "\n",
       "    .dataframe thead th {\n",
       "        text-align: right;\n",
       "    }\n",
       "</style>\n",
       "<table border=\"1\" class=\"dataframe\">\n",
       "  <thead>\n",
       "    <tr style=\"text-align: right;\">\n",
       "      <th></th>\n",
       "      <th>Open</th>\n",
       "      <th>High</th>\n",
       "      <th>Low</th>\n",
       "      <th>Close</th>\n",
       "      <th>Adj Close</th>\n",
       "      <th>Volume</th>\n",
       "    </tr>\n",
       "    <tr>\n",
       "      <th>Date</th>\n",
       "      <th></th>\n",
       "      <th></th>\n",
       "      <th></th>\n",
       "      <th></th>\n",
       "      <th></th>\n",
       "      <th></th>\n",
       "    </tr>\n",
       "  </thead>\n",
       "  <tbody>\n",
       "    <tr>\n",
       "      <th>2001-01-02</th>\n",
       "      <td>1320.280029</td>\n",
       "      <td>1320.280029</td>\n",
       "      <td>1276.050049</td>\n",
       "      <td>1283.270020</td>\n",
       "      <td>1283.270020</td>\n",
       "      <td>1129400000</td>\n",
       "    </tr>\n",
       "    <tr>\n",
       "      <th>2001-01-03</th>\n",
       "      <td>1283.270020</td>\n",
       "      <td>1347.760010</td>\n",
       "      <td>1274.619995</td>\n",
       "      <td>1347.560059</td>\n",
       "      <td>1347.560059</td>\n",
       "      <td>1880700000</td>\n",
       "    </tr>\n",
       "    <tr>\n",
       "      <th>2001-01-04</th>\n",
       "      <td>1347.560059</td>\n",
       "      <td>1350.239990</td>\n",
       "      <td>1329.140015</td>\n",
       "      <td>1333.339966</td>\n",
       "      <td>1333.339966</td>\n",
       "      <td>2131000000</td>\n",
       "    </tr>\n",
       "    <tr>\n",
       "      <th>2001-01-05</th>\n",
       "      <td>1333.339966</td>\n",
       "      <td>1334.770020</td>\n",
       "      <td>1294.949951</td>\n",
       "      <td>1298.349976</td>\n",
       "      <td>1298.349976</td>\n",
       "      <td>1430800000</td>\n",
       "    </tr>\n",
       "    <tr>\n",
       "      <th>2001-01-08</th>\n",
       "      <td>1298.349976</td>\n",
       "      <td>1298.349976</td>\n",
       "      <td>1276.290039</td>\n",
       "      <td>1295.859985</td>\n",
       "      <td>1295.859985</td>\n",
       "      <td>1115500000</td>\n",
       "    </tr>\n",
       "    <tr>\n",
       "      <th>...</th>\n",
       "      <td>...</td>\n",
       "      <td>...</td>\n",
       "      <td>...</td>\n",
       "      <td>...</td>\n",
       "      <td>...</td>\n",
       "      <td>...</td>\n",
       "    </tr>\n",
       "    <tr>\n",
       "      <th>2013-07-25</th>\n",
       "      <td>1685.209961</td>\n",
       "      <td>1690.939941</td>\n",
       "      <td>1680.069946</td>\n",
       "      <td>1690.250000</td>\n",
       "      <td>1690.250000</td>\n",
       "      <td>3322500000</td>\n",
       "    </tr>\n",
       "    <tr>\n",
       "      <th>2013-07-26</th>\n",
       "      <td>1687.310059</td>\n",
       "      <td>1691.849976</td>\n",
       "      <td>1676.030029</td>\n",
       "      <td>1691.650024</td>\n",
       "      <td>1691.650024</td>\n",
       "      <td>2762770000</td>\n",
       "    </tr>\n",
       "    <tr>\n",
       "      <th>2013-07-29</th>\n",
       "      <td>1690.319946</td>\n",
       "      <td>1690.920044</td>\n",
       "      <td>1681.859985</td>\n",
       "      <td>1685.329956</td>\n",
       "      <td>1685.329956</td>\n",
       "      <td>2840520000</td>\n",
       "    </tr>\n",
       "    <tr>\n",
       "      <th>2013-07-30</th>\n",
       "      <td>1687.920044</td>\n",
       "      <td>1693.189941</td>\n",
       "      <td>1682.420044</td>\n",
       "      <td>1685.959961</td>\n",
       "      <td>1685.959961</td>\n",
       "      <td>3320530000</td>\n",
       "    </tr>\n",
       "    <tr>\n",
       "      <th>2013-07-31</th>\n",
       "      <td>1687.760010</td>\n",
       "      <td>1698.430054</td>\n",
       "      <td>1684.939941</td>\n",
       "      <td>1685.729980</td>\n",
       "      <td>1685.729980</td>\n",
       "      <td>3847390000</td>\n",
       "    </tr>\n",
       "  </tbody>\n",
       "</table>\n",
       "<p>3163 rows × 6 columns</p>\n",
       "</div>"
      ],
      "text/plain": [
       "                   Open         High          Low        Close    Adj Close  \\\n",
       "Date                                                                          \n",
       "2001-01-02  1320.280029  1320.280029  1276.050049  1283.270020  1283.270020   \n",
       "2001-01-03  1283.270020  1347.760010  1274.619995  1347.560059  1347.560059   \n",
       "2001-01-04  1347.560059  1350.239990  1329.140015  1333.339966  1333.339966   \n",
       "2001-01-05  1333.339966  1334.770020  1294.949951  1298.349976  1298.349976   \n",
       "2001-01-08  1298.349976  1298.349976  1276.290039  1295.859985  1295.859985   \n",
       "...                 ...          ...          ...          ...          ...   \n",
       "2013-07-25  1685.209961  1690.939941  1680.069946  1690.250000  1690.250000   \n",
       "2013-07-26  1687.310059  1691.849976  1676.030029  1691.650024  1691.650024   \n",
       "2013-07-29  1690.319946  1690.920044  1681.859985  1685.329956  1685.329956   \n",
       "2013-07-30  1687.920044  1693.189941  1682.420044  1685.959961  1685.959961   \n",
       "2013-07-31  1687.760010  1698.430054  1684.939941  1685.729980  1685.729980   \n",
       "\n",
       "                Volume  \n",
       "Date                    \n",
       "2001-01-02  1129400000  \n",
       "2001-01-03  1880700000  \n",
       "2001-01-04  2131000000  \n",
       "2001-01-05  1430800000  \n",
       "2001-01-08  1115500000  \n",
       "...                ...  \n",
       "2013-07-25  3322500000  \n",
       "2013-07-26  2762770000  \n",
       "2013-07-29  2840520000  \n",
       "2013-07-30  3320530000  \n",
       "2013-07-31  3847390000  \n",
       "\n",
       "[3163 rows x 6 columns]"
      ]
     },
     "execution_count": 18,
     "metadata": {},
     "output_type": "execute_result"
    }
   ],
   "source": [
    "# Download SPX price data from Yahoo Finance\n",
    "spx_data = yf.download(\"^GSPC\", start=\"2001-01-01\", end=\"2013-08-01\")\n",
    "spx_data"
   ]
  },
  {
   "cell_type": "code",
   "execution_count": 19,
   "id": "bf65f2ce-a9d7-4e7a-b906-f5bcd89e3ac1",
   "metadata": {},
   "outputs": [
    {
     "data": {
      "text/plain": [
       "Date\n",
       "2001-01-02          NaN\n",
       "2001-01-03          NaN\n",
       "2001-01-04          NaN\n",
       "2001-01-05          NaN\n",
       "2001-01-08          NaN\n",
       "                ...    \n",
       "2013-07-25    12.155109\n",
       "2013-07-26    12.153330\n",
       "2013-07-29    12.175531\n",
       "2013-07-30    12.163175\n",
       "2013-07-31    12.101986\n",
       "Name: Close, Length: 3163, dtype: float64"
      ]
     },
     "execution_count": 19,
     "metadata": {},
     "output_type": "execute_result"
    }
   ],
   "source": [
    "# Example usage (if you have SPX price data):\n",
    "# Assuming 'spx_data' has a 'Close' column with SPX closing prices:\n",
    "vol_df = calculate_rolling_volatility(spx_data['Close'], window=65) * 100\n",
    "vol_df"
   ]
  },
  {
   "cell_type": "markdown",
   "id": "ca4c7cc4-2854-488d-a13d-5615e15b3a92",
   "metadata": {
    "jp-MarkdownHeadingCollapsed": true
   },
   "source": [
    "### 1. Filter Series by Threshold"
   ]
  },
  {
   "cell_type": "code",
   "execution_count": 20,
   "id": "6352d32c-d493-4496-876a-5b6362152098",
   "metadata": {},
   "outputs": [
    {
     "data": {
      "text/html": [
       "<div>\n",
       "<style scoped>\n",
       "    .dataframe tbody tr th:only-of-type {\n",
       "        vertical-align: middle;\n",
       "    }\n",
       "\n",
       "    .dataframe tbody tr th {\n",
       "        vertical-align: top;\n",
       "    }\n",
       "\n",
       "    .dataframe thead th {\n",
       "        text-align: right;\n",
       "    }\n",
       "</style>\n",
       "<table border=\"1\" class=\"dataframe\">\n",
       "  <thead>\n",
       "    <tr style=\"text-align: right;\">\n",
       "      <th></th>\n",
       "      <th>Period_1</th>\n",
       "      <th>Period_2</th>\n",
       "      <th>Period_3</th>\n",
       "    </tr>\n",
       "  </thead>\n",
       "  <tbody>\n",
       "    <tr>\n",
       "      <th>2001-04-05</th>\n",
       "      <td>25.811329</td>\n",
       "      <td>NaN</td>\n",
       "      <td>NaN</td>\n",
       "    </tr>\n",
       "    <tr>\n",
       "      <th>2001-04-06</th>\n",
       "      <td>23.909590</td>\n",
       "      <td>NaN</td>\n",
       "      <td>NaN</td>\n",
       "    </tr>\n",
       "    <tr>\n",
       "      <th>2001-04-09</th>\n",
       "      <td>23.948095</td>\n",
       "      <td>NaN</td>\n",
       "      <td>NaN</td>\n",
       "    </tr>\n",
       "    <tr>\n",
       "      <th>2001-04-10</th>\n",
       "      <td>24.151370</td>\n",
       "      <td>NaN</td>\n",
       "      <td>NaN</td>\n",
       "    </tr>\n",
       "    <tr>\n",
       "      <th>2001-04-11</th>\n",
       "      <td>24.151550</td>\n",
       "      <td>NaN</td>\n",
       "      <td>NaN</td>\n",
       "    </tr>\n",
       "    <tr>\n",
       "      <th>...</th>\n",
       "      <td>...</td>\n",
       "      <td>...</td>\n",
       "      <td>...</td>\n",
       "    </tr>\n",
       "    <tr>\n",
       "      <th>2012-02-02</th>\n",
       "      <td>NaN</td>\n",
       "      <td>NaN</td>\n",
       "      <td>21.521628</td>\n",
       "    </tr>\n",
       "    <tr>\n",
       "      <th>2012-02-03</th>\n",
       "      <td>NaN</td>\n",
       "      <td>NaN</td>\n",
       "      <td>21.090027</td>\n",
       "    </tr>\n",
       "    <tr>\n",
       "      <th>2012-02-06</th>\n",
       "      <td>NaN</td>\n",
       "      <td>NaN</td>\n",
       "      <td>20.274462</td>\n",
       "    </tr>\n",
       "    <tr>\n",
       "      <th>2012-02-07</th>\n",
       "      <td>NaN</td>\n",
       "      <td>NaN</td>\n",
       "      <td>20.066198</td>\n",
       "    </tr>\n",
       "    <tr>\n",
       "      <th>2012-02-08</th>\n",
       "      <td>NaN</td>\n",
       "      <td>NaN</td>\n",
       "      <td>19.763206</td>\n",
       "    </tr>\n",
       "  </tbody>\n",
       "</table>\n",
       "<p>2540 rows × 3 columns</p>\n",
       "</div>"
      ],
      "text/plain": [
       "             Period_1  Period_2   Period_3\n",
       "2001-04-05  25.811329       NaN        NaN\n",
       "2001-04-06  23.909590       NaN        NaN\n",
       "2001-04-09  23.948095       NaN        NaN\n",
       "2001-04-10  24.151370       NaN        NaN\n",
       "2001-04-11  24.151550       NaN        NaN\n",
       "...               ...       ...        ...\n",
       "2012-02-02        NaN       NaN  21.521628\n",
       "2012-02-03        NaN       NaN  21.090027\n",
       "2012-02-06        NaN       NaN  20.274462\n",
       "2012-02-07        NaN       NaN  20.066198\n",
       "2012-02-08        NaN       NaN  19.763206\n",
       "\n",
       "[2540 rows x 3 columns]"
      ]
     },
     "execution_count": 20,
     "metadata": {},
     "output_type": "execute_result"
    }
   ],
   "source": [
    "isolated_periods = filter_vol_periods(vol_df, base_value=base_value, threshold=threshold)\n",
    "isolated_periods"
   ]
  },
  {
   "cell_type": "markdown",
   "id": "705119e9-59da-46a6-b515-207b69332d9c",
   "metadata": {
    "jp-MarkdownHeadingCollapsed": true
   },
   "source": [
    "### 2. Calculate Time to Threshold"
   ]
  },
  {
   "cell_type": "code",
   "execution_count": 21,
   "id": "e3f57bae-3917-478d-8b2a-ef0cfbad045e",
   "metadata": {},
   "outputs": [],
   "source": [
    "# Function to calculate time to threshold for each period\n",
    "def time_to_threshold(series, base_value, threshold):\n",
    "    \"\"\"\n",
    "    Calculate the number of days and corresponding dates taken to reach a threshold value from a base value.\n",
    "\n",
    "    Parameters:\n",
    "    - series (pd.DataFrame): DataFrame containing time series columns.\n",
    "    - base_value (float): The base value to start measuring from.\n",
    "    - threshold (float): The threshold value to measure to.\n",
    "\n",
    "    Returns:\n",
    "    - result_df (pd.DataFrame): DataFrame with the number of days and dates for each column.\n",
    "    \"\"\"\n",
    "    results = []\n",
    "    \n",
    "    for column in series.columns:\n",
    "        # Extract the time index and values\n",
    "        times = series.index\n",
    "        values = series[column]\n",
    "\n",
    "        # Find the indices where the base_value and threshold are crossed\n",
    "        base_indices = np.where(values >= base_value)[0]\n",
    "        threshold_indices = np.where(values >= threshold)[0]\n",
    "\n",
    "        if base_indices.size > 0 and threshold_indices.size > 0:\n",
    "            for base_idx in base_indices:\n",
    "                # Find the first threshold index after the base index\n",
    "                threshold_idx = threshold_indices[threshold_indices > base_idx]\n",
    "                if threshold_idx.size > 0:\n",
    "                    base_date = times[base_idx]\n",
    "                    threshold_date = times[threshold_idx[0]]\n",
    "                    days_diff = (threshold_date - base_date).days\n",
    "                    results.append({\n",
    "                        \"Period\": column,\n",
    "                        \"Base Date\": base_date,\n",
    "                        \"Threshold Date\": threshold_date,\n",
    "                        \"Days\": days_diff\n",
    "                    })\n",
    "                    break  # Only keep the first occurrence\n",
    "        else:\n",
    "            results.append({\n",
    "                \"Period\": column,\n",
    "                \"Base Date\": None,\n",
    "                \"Threshold Date\": None,\n",
    "                \"Days\": None\n",
    "            })\n",
    "    \n",
    "    result_df = pd.DataFrame(results)\n",
    "    return result_df"
   ]
  },
  {
   "cell_type": "markdown",
   "id": "ce95b6bd-4dd1-4880-80fb-0cea9d2849d5",
   "metadata": {},
   "source": [
    "## Plot"
   ]
  },
  {
   "cell_type": "markdown",
   "id": "3d601cef-7ef0-4aef-9009-6810c4bd67ab",
   "metadata": {
    "jp-MarkdownHeadingCollapsed": true
   },
   "source": [
    "### 0. Plot data"
   ]
  },
  {
   "cell_type": "code",
   "execution_count": 22,
   "id": "93de0fa8-bcda-4f3c-84b5-b212440cacce",
   "metadata": {},
   "outputs": [
    {
     "data": {
      "text/plain": [
       "<Axes: xlabel='Date'>"
      ]
     },
     "execution_count": 22,
     "metadata": {},
     "output_type": "execute_result"
    },
    {
     "data": {
      "image/png": "[encoded data removed]",
      "text/plain": [
       "<Figure size 640x480 with 1 Axes>"
      ]
     },
     "metadata": {},
     "output_type": "display_data"
    }
   ],
   "source": [
    "vol_df.plot()"
   ]
  },
  {
   "cell_type": "markdown",
   "id": "c1e92e2f-dd75-496b-bc96-965e57857e61",
   "metadata": {
    "jp-MarkdownHeadingCollapsed": true
   },
   "source": [
    "### 1. Plot Filtered Series by Threshold"
   ]
  },
  {
   "cell_type": "code",
   "execution_count": 23,
   "id": "f9469052-bd38-4b4a-8a0a-98a7b3cdb7bd",
   "metadata": {},
   "outputs": [
    {
     "data": {
      "text/html": [
       "<div>\n",
       "<style scoped>\n",
       "    .dataframe tbody tr th:only-of-type {\n",
       "        vertical-align: middle;\n",
       "    }\n",
       "\n",
       "    .dataframe tbody tr th {\n",
       "        vertical-align: top;\n",
       "    }\n",
       "\n",
       "    .dataframe thead th {\n",
       "        text-align: right;\n",
       "    }\n",
       "</style>\n",
       "<table border=\"1\" class=\"dataframe\">\n",
       "  <thead>\n",
       "    <tr style=\"text-align: right;\">\n",
       "      <th></th>\n",
       "      <th>Period_1</th>\n",
       "      <th>Period_2</th>\n",
       "      <th>Period_3</th>\n",
       "    </tr>\n",
       "  </thead>\n",
       "  <tbody>\n",
       "    <tr>\n",
       "      <th>2001-04-05</th>\n",
       "      <td>25.811329</td>\n",
       "      <td>NaN</td>\n",
       "      <td>NaN</td>\n",
       "    </tr>\n",
       "    <tr>\n",
       "      <th>2001-04-06</th>\n",
       "      <td>23.909590</td>\n",
       "      <td>NaN</td>\n",
       "      <td>NaN</td>\n",
       "    </tr>\n",
       "    <tr>\n",
       "      <th>2001-04-09</th>\n",
       "      <td>23.948095</td>\n",
       "      <td>NaN</td>\n",
       "      <td>NaN</td>\n",
       "    </tr>\n",
       "    <tr>\n",
       "      <th>2001-04-10</th>\n",
       "      <td>24.151370</td>\n",
       "      <td>NaN</td>\n",
       "      <td>NaN</td>\n",
       "    </tr>\n",
       "    <tr>\n",
       "      <th>2001-04-11</th>\n",
       "      <td>24.151550</td>\n",
       "      <td>NaN</td>\n",
       "      <td>NaN</td>\n",
       "    </tr>\n",
       "    <tr>\n",
       "      <th>...</th>\n",
       "      <td>...</td>\n",
       "      <td>...</td>\n",
       "      <td>...</td>\n",
       "    </tr>\n",
       "    <tr>\n",
       "      <th>2012-02-02</th>\n",
       "      <td>NaN</td>\n",
       "      <td>NaN</td>\n",
       "      <td>21.521628</td>\n",
       "    </tr>\n",
       "    <tr>\n",
       "      <th>2012-02-03</th>\n",
       "      <td>NaN</td>\n",
       "      <td>NaN</td>\n",
       "      <td>21.090027</td>\n",
       "    </tr>\n",
       "    <tr>\n",
       "      <th>2012-02-06</th>\n",
       "      <td>NaN</td>\n",
       "      <td>NaN</td>\n",
       "      <td>20.274462</td>\n",
       "    </tr>\n",
       "    <tr>\n",
       "      <th>2012-02-07</th>\n",
       "      <td>NaN</td>\n",
       "      <td>NaN</td>\n",
       "      <td>20.066198</td>\n",
       "    </tr>\n",
       "    <tr>\n",
       "      <th>2012-02-08</th>\n",
       "      <td>NaN</td>\n",
       "      <td>NaN</td>\n",
       "      <td>19.763206</td>\n",
       "    </tr>\n",
       "  </tbody>\n",
       "</table>\n",
       "<p>2540 rows × 3 columns</p>\n",
       "</div>"
      ],
      "text/plain": [
       "             Period_1  Period_2   Period_3\n",
       "2001-04-05  25.811329       NaN        NaN\n",
       "2001-04-06  23.909590       NaN        NaN\n",
       "2001-04-09  23.948095       NaN        NaN\n",
       "2001-04-10  24.151370       NaN        NaN\n",
       "2001-04-11  24.151550       NaN        NaN\n",
       "...               ...       ...        ...\n",
       "2012-02-02        NaN       NaN  21.521628\n",
       "2012-02-03        NaN       NaN  21.090027\n",
       "2012-02-06        NaN       NaN  20.274462\n",
       "2012-02-07        NaN       NaN  20.066198\n",
       "2012-02-08        NaN       NaN  19.763206\n",
       "\n",
       "[2540 rows x 3 columns]"
      ]
     },
     "execution_count": 23,
     "metadata": {},
     "output_type": "execute_result"
    }
   ],
   "source": [
    "isolated_periods"
   ]
  },
  {
   "cell_type": "code",
   "execution_count": 24,
   "id": "9214e01e-e09b-4694-9dba-3efd71738da8",
   "metadata": {},
   "outputs": [
    {
     "data": {
      "text/plain": [
       "<Axes: >"
      ]
     },
     "execution_count": 24,
     "metadata": {},
     "output_type": "execute_result"
    },
    {
     "data": {
      "image/png": "[encoded data removed]",
      "text/plain": [
       "<Figure size 640x480 with 1 Axes>"
      ]
     },
     "metadata": {},
     "output_type": "display_data"
    }
   ],
   "source": [
    "isolated_periods.plot()"
   ]
  },
  {
   "cell_type": "markdown",
   "id": "43974c23-d0b9-4672-aa55-f7c8843798a1",
   "metadata": {},
   "source": []
  },
  {
   "cell_type": "code",
   "execution_count": null,
   "id": "6f49279d-01e3-4378-9982-fbf195cdca6a",
   "metadata": {},
   "outputs": [],
   "source": []
  },
  {
   "cell_type": "markdown",
   "id": "69e40c7c-0440-4791-8525-eca8f4d6da67",
   "metadata": {},
   "source": []
  },
  {
   "cell_type": "code",
   "execution_count": null,
   "id": "ef537ace-7dae-4b5f-ace9-9d6a98993be1",
   "metadata": {},
   "outputs": [],
   "source": []
  },
  {
   "cell_type": "code",
   "execution_count": null,
   "id": "5be67fff-b540-4b92-8a43-a4d034f6e537",
   "metadata": {},
   "outputs": [],
   "source": []
  }
 ],
 "metadata": {
  "kernelspec": {
   "display_name": "Python 3 (ipykernel)",
   "language": "python",
   "name": "python3"
  },
  "language_info": {
   "codemirror_mode": {
    "name": "ipython",
    "version": 3
   },
   "file_extension": ".py",
   "mimetype": "text/x-python",
   "name": "python",
   "nbconvert_exporter": "python",
   "pygments_lexer": "ipython3",
   "version": "3.11.7"
  }
 },
 "nbformat": 4,
 "nbformat_minor": 5
}
