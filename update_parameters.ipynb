{
 "cells": [
  {
   "cell_type": "code",
   "execution_count": 11,
   "id": "b160adc3-1aa5-451d-a15e-a99403c5f2d3",
   "metadata": {},
   "outputs": [],
   "source": [
    "import ipywidgets as widgets\n",
    "from IPython.display import display, clear_output\n",
    "import matplotlib.pyplot as plt\n",
    "import numpy as np\n",
    "import pandas as pd"
   ]
  },
  {
   "cell_type": "markdown",
   "id": "83aae5bf-b701-4946-a15c-9ae359e6fee0",
   "metadata": {
    "jp-MarkdownHeadingCollapsed": true
   },
   "source": [
    "### Customization Parameters: Allow modifications and link back to the stored parameters - update_parameters"
   ]
  },
  {
   "cell_type": "code",
   "execution_count": 12,
   "id": "56904c81-e9bf-4ae3-84f3-c540f68e4c4d",
   "metadata": {},
   "outputs": [],
   "source": [
    "# Initialize the dictionary to store selected parameters\n",
    "selected_parameters = {}\n",
    "\n",
    "# Define the function to update parameters\n",
    "def update_parameters(param_name, widget):\n",
    "    selected_parameters[param_name] = widget.value\n",
    "\n",
    "# Create widgets for each parameter\n",
    "zones_dropdown = widgets.Dropdown(options=['Global Indices', 'US Stocks', 'European Stocks'],description='Zones:')\n",
    "underlyings_dropdown = widgets.Dropdown(options=['EU_STOXX50E', 'EU_SXXP', 'EU_SX7E'],description='Underlyings:')\n",
    "vol_type_dropdown = widgets.Dropdown(options=['Moneyness', 'ATM', 'IV'],description='Vol Type:')\n",
    "param_level_slider = widgets.IntSlider(value=100,min=0,max=200,step=10,description='Param Level:')\n",
    "vol_mat_dropdown = widgets.IntSlider(value=1,min=1,max=12,step=1,description='Vol Mat (months):')\n",
    "real_vol_mat_slider = widgets.IntSlider(value=21,min=1,max=252,step=1,description='Real Vol Mat (b-days):')\n",
    "start_date_picker = widgets.DatePicker(description=\"Start Date\")\n",
    "end_date_picker = widgets.DatePicker(description=\"End Date\")\n",
    "call_strike_dropdown = widgets.FloatSlider(value=0.25,min=0.0,max=1.0,step=0.05,description=\"Call Strike:\")\n",
    "put_strike_dropdown = widgets.FloatSlider(value=0.25,min=0.0,max=1.0,step=0.05,description=\"Put Strike:\")\n",
    "\n",
    "# Update selected_parameters dict based on selection\n",
    "zones_dropdown.observe(lambda change: update_parameters('Zone', zones_dropdown), names='value')\n",
    "underlyings_dropdown.observe(lambda change: update_parameters('Underlying', underlyings_dropdown), names='value')\n",
    "vol_type_dropdown.observe(lambda change: update_parameters('Vol Type', vol_type_dropdown), names='value')\n",
    "param_level_slider.observe(lambda change: update_parameters('Param Level', param_level_slider), names='value')\n",
    "vol_mat_dropdown.observe(lambda change: update_parameters('Vol Mat (months)', vol_mat_dropdown), names='value')\n",
    "real_vol_mat_slider.observe(lambda change: update_parameters('Real Vol Mat', real_vol_mat_slider), names='value')\n",
    "start_date_picker.observe(lambda change: update_parameters('Start Date', start_date_picker), names='value')\n",
    "end_date_picker.observe(lambda change: update_parameters('End Date', end_date_picker), names='value')\n",
    "call_strike_dropdown.observe(lambda change: update_parameters('Call Strike', call_strike_dropdown), names='value')\n",
    "put_strike_dropdown.observe(lambda change: update_parameters('Put Strike', put_strike_dropdown), names='value')"
   ]
  },
  {
   "cell_type": "code",
   "execution_count": 13,
   "id": "6643d0bd-d451-4f57-8bbc-faa07507a700",
   "metadata": {},
   "outputs": [
    {
     "data": {
      "application/vnd.jupyter.widget-view+json": {
       "model_id": "83111a2cb297479a81622fab9bbb96d0",
       "version_major": 2,
       "version_minor": 0
      },
      "text/plain": [
       "Dropdown(description='Zones:', options=('Global Indices', 'US Stocks', 'European Stocks'), value='Global Indic…"
      ]
     },
     "metadata": {},
     "output_type": "display_data"
    },
    {
     "data": {
      "application/vnd.jupyter.widget-view+json": {
       "model_id": "469e22157882491c92c4baa613a7d96c",
       "version_major": 2,
       "version_minor": 0
      },
      "text/plain": [
       "Dropdown(description='Underlyings:', options=('EU_STOXX50E', 'EU_SXXP', 'EU_SX7E'), value='EU_STOXX50E')"
      ]
     },
     "metadata": {},
     "output_type": "display_data"
    },
    {
     "data": {
      "application/vnd.jupyter.widget-view+json": {
       "model_id": "2e05da9898414f09ab822fba52c5a859",
       "version_major": 2,
       "version_minor": 0
      },
      "text/plain": [
       "Dropdown(description='Vol Type:', options=('Moneyness', 'ATM', 'IV'), value='Moneyness')"
      ]
     },
     "metadata": {},
     "output_type": "display_data"
    },
    {
     "data": {
      "application/vnd.jupyter.widget-view+json": {
       "model_id": "954089613e8b490dbad24d9dd712f4e1",
       "version_major": 2,
       "version_minor": 0
      },
      "text/plain": [
       "IntSlider(value=100, description='Param Level:', max=200, step=10)"
      ]
     },
     "metadata": {},
     "output_type": "display_data"
    },
    {
     "data": {
      "application/vnd.jupyter.widget-view+json": {
       "model_id": "144df6c63ea04e78a42b70c5b26f5aa8",
       "version_major": 2,
       "version_minor": 0
      },
      "text/plain": [
       "IntSlider(value=1, description='Vol Mat (months):', max=12, min=1)"
      ]
     },
     "metadata": {},
     "output_type": "display_data"
    },
    {
     "data": {
      "application/vnd.jupyter.widget-view+json": {
       "model_id": "9176f670469a4ad09cdc43976cc0d3e8",
       "version_major": 2,
       "version_minor": 0
      },
      "text/plain": [
       "IntSlider(value=21, description='Real Vol Mat (b-days):', max=252, min=1)"
      ]
     },
     "metadata": {},
     "output_type": "display_data"
    },
    {
     "data": {
      "application/vnd.jupyter.widget-view+json": {
       "model_id": "6e792c2cc4084eb099d6af753ee138eb",
       "version_major": 2,
       "version_minor": 0
      },
      "text/plain": [
       "DatePicker(value=None, description='Start Date', step=1)"
      ]
     },
     "metadata": {},
     "output_type": "display_data"
    },
    {
     "data": {
      "application/vnd.jupyter.widget-view+json": {
       "model_id": "f58cd6bf92a44ceba76e6e8204772429",
       "version_major": 2,
       "version_minor": 0
      },
      "text/plain": [
       "DatePicker(value=None, description='End Date', step=1)"
      ]
     },
     "metadata": {},
     "output_type": "display_data"
    },
    {
     "data": {
      "application/vnd.jupyter.widget-view+json": {
       "model_id": "8e351e3b064049d8bb693d66f28845e3",
       "version_major": 2,
       "version_minor": 0
      },
      "text/plain": [
       "FloatSlider(value=0.25, description='Call Strike:', max=1.0, step=0.05)"
      ]
     },
     "metadata": {},
     "output_type": "display_data"
    },
    {
     "data": {
      "application/vnd.jupyter.widget-view+json": {
       "model_id": "e5c2fcd5672c4d97b6a26337ac0a0ff7",
       "version_major": 2,
       "version_minor": 0
      },
      "text/plain": [
       "FloatSlider(value=0.25, description='Put Strike:', max=1.0, step=0.05)"
      ]
     },
     "metadata": {},
     "output_type": "display_data"
    }
   ],
   "source": [
    "# Display all widgets together\n",
    "display(zones_dropdown, underlyings_dropdown, vol_type_dropdown, param_level_slider,vol_mat_dropdown, real_vol_mat_slider, start_date_picker, end_date_picker,call_strike_dropdown, put_strike_dropdown)"
   ]
  },
  {
   "cell_type": "markdown",
   "id": "60feaf08-eaa6-46ef-9016-50cb99e10004",
   "metadata": {
    "jp-MarkdownHeadingCollapsed": true
   },
   "source": [
    "### Result - Updated df when widgets are triggered"
   ]
  },
  {
   "cell_type": "code",
   "execution_count": 14,
   "id": "27a455a8-246b-4a96-887b-e76900d65551",
   "metadata": {},
   "outputs": [
    {
     "data": {
      "text/plain": [
       "{}"
      ]
     },
     "execution_count": 14,
     "metadata": {},
     "output_type": "execute_result"
    }
   ],
   "source": [
    "# This selected_parameters dictionary now reflects the current state of all widget inputs in real-time.\n",
    "selected_parameters"
   ]
  },
  {
   "cell_type": "markdown",
   "id": "24606da2-efd4-4b9d-9816-f8eb99826329",
   "metadata": {
    "jp-MarkdownHeadingCollapsed": true
   },
   "source": [
    "### App step 2 integration "
   ]
  },
  {
   "cell_type": "code",
   "execution_count": 15,
   "id": "d4f8a804-1fa2-4e5d-8f92-a35b97759092",
   "metadata": {},
   "outputs": [],
   "source": [
    "# Plot\n",
    "# Function to create and update a plot based on parameters\n",
    "def plot_graph(param1, param2, ax):\n",
    "    x = np.linspace(0, 10, 100)\n",
    "    y = param1 * np.sin(x) + param2 * np.cos(x)\n",
    "    ax.clear()\n",
    "    ax.plot(x, y)\n",
    "    ax.set_title(\"Customized Graph\")\n",
    "    ax.set_xlabel(\"X-axis\")\n",
    "    ax.set_ylabel(\"Y-axis\")\n",
    "\n",
    "\n",
    "# Initialize the dictionary to store selected parameters for each plot\n",
    "selected_parameters = {\n",
    "    'plot_1': {'param1': 0.5, 'param2': 1.0},\n",
    "    'plot_2': {'param1': 0.5, 'param2': 1.0},\n",
    "    'plot_3': {'param1': 0.5, 'param2': 1.0},\n",
    "    'plot_4': {'param1': 0.5, 'param2': 1.0}\n",
    "}"
   ]
  },
  {
   "cell_type": "code",
   "execution_count": 16,
   "id": "c6192f74-ac9a-409d-b75b-07609720739c",
   "metadata": {},
   "outputs": [],
   "source": [
    "# Function to initialize and display the main slide with four plots and checkboxes on top-right corner\n",
    "def display_main_slide():\n",
    "    with main_slide_display:\n",
    "        clear_output(wait=True)\n",
    "\n",
    "        # Create an HBox to hold the two rows of plots\n",
    "        row1 = widgets.HBox([create_plot_with_checkbox('plot_1'), create_plot_with_checkbox('plot_2')])\n",
    "        row2 = widgets.HBox([create_plot_with_checkbox('plot_3'), create_plot_with_checkbox('plot_4')])\n",
    "\n",
    "        # Display the main slide with the two rows\n",
    "        display(widgets.VBox([row1, row2]))\n",
    "\n",
    "# Function to create a plot with a checkbox on the top-right corner\n",
    "def create_plot_with_checkbox(plot_id):\n",
    "    plot_box = widgets.Output()\n",
    "    checkbox = widgets.Checkbox(description=f\"{plot_id.capitalize()}\", value=False, layout=widgets.Layout(width='auto'))\n",
    "\n",
    "    # Attach observer to checkbox\n",
    "    checkbox.observe(lambda change: handle_checkbox_change(change, plot_id), names='value')\n",
    "\n",
    "    # Create a figure for the plot\n",
    "    with plot_box:\n",
    "        fig, ax = plt.subplots(figsize=(5, 4))\n",
    "        plot_graph(selected_parameters[plot_id]['param1'], selected_parameters[plot_id]['param2'], ax)\n",
    "        plt.show()\n",
    "\n",
    "    # Position the checkbox on the top-right by combining with HBox and VBox layouts\n",
    "    plot_with_checkbox = widgets.VBox([\n",
    "        widgets.HBox([widgets.Label(\"\"), checkbox], layout=widgets.Layout(justify_content='flex-end')),\n",
    "        plot_box\n",
    "    ])\n",
    "\n",
    "    return plot_with_checkbox\n",
    "\n",
    "# Function to handle checkbox change events\n",
    "def handle_checkbox_change(change, plot_id):\n",
    "    if change['new']:  # Only act if the checkbox is checked\n",
    "        open_customization_window(plot_id)\n",
    "\n",
    "# Function to open the customization window for a specific plot\n",
    "def open_customization_window(plot_id):\n",
    "    customization_window.children = []  # Clear previous widgets\n",
    "    \n",
    "    # Retrieve current parameters for the selected plot\n",
    "    param1 = selected_parameters[plot_id]['param1']\n",
    "    param2 = selected_parameters[plot_id]['param2']\n",
    "    \n",
    "    # Create customization widgets\n",
    "    param1_slider = widgets.FloatSlider(value=param1, min=0.1, max=2.0, step=0.1, description='Param 1')\n",
    "    param2_slider = widgets.FloatSlider(value=param2, min=0.1, max=2.0, step=0.1, description='Param 2')\n",
    "    save_changes_checkbox = widgets.Checkbox(description=\"Save Changes\", value=False)\n",
    "    \n",
    "    # Attach observers to widgets for dynamic updates and saving\n",
    "    param1_slider.observe(lambda change: update_customization_plot(param1_slider.value, param2_slider.value), names='value')\n",
    "    param2_slider.observe(lambda change: update_customization_plot(param1_slider.value, param2_slider.value), names='value')\n",
    "    save_changes_checkbox.observe(lambda change: save_changes(change, plot_id, param1_slider, param2_slider), names='value')\n",
    "    \n",
    "    # Display the customization window with the initial plot and widgets\n",
    "    customization_window.children = [widgets.VBox([param1_slider, param2_slider, save_changes_checkbox]), plot_output]\n",
    "    update_customization_plot(param1_slider.value, param2_slider.value)  # Initial plot display\n",
    "\n",
    "# Function to update the plot in the customization window dynamically\n",
    "def update_customization_plot(param1, param2):\n",
    "    with plot_output:\n",
    "        clear_output(wait=True)\n",
    "        fig, custom_ax = plt.subplots(figsize=(5, 4))\n",
    "        plot_graph(param1, param2, custom_ax)\n",
    "        plt.show()\n",
    "\n",
    "# Function to save changes and update the main slide\n",
    "def save_changes(change, plot_id, param1_slider, param2_slider):\n",
    "    if change['new']:  # Only act if \"Save Changes\" is checked\n",
    "        # Save the parameters to selected_parameters\n",
    "        selected_parameters[plot_id]['param1'] = param1_slider.value\n",
    "        selected_parameters[plot_id]['param2'] = param2_slider.value\n",
    "        \n",
    "        # Update the main slide and clear the customization window\n",
    "        display_main_slide()\n",
    "        customization_window.children = []  # Clear the customization window"
   ]
  },
  {
   "cell_type": "code",
   "execution_count": 17,
   "id": "a5b3a464-fcc9-464a-b31d-d88014f9fa91",
   "metadata": {},
   "outputs": [
    {
     "data": {
      "application/vnd.jupyter.widget-view+json": {
       "model_id": "c0301d5585b4440186bd0a2901949e1e",
       "version_major": 2,
       "version_minor": 0
      },
      "text/plain": [
       "Output()"
      ]
     },
     "metadata": {},
     "output_type": "display_data"
    },
    {
     "data": {
      "application/vnd.jupyter.widget-view+json": {
       "model_id": "a6e6c18ab1fc4ca3966489dfcf407b7b",
       "version_major": 2,
       "version_minor": 0
      },
      "text/plain": [
       "VBox()"
      ]
     },
     "metadata": {},
     "output_type": "display_data"
    }
   ],
   "source": [
    "# Output display for the main slide and customization window\n",
    "main_slide_display = widgets.Output()\n",
    "customization_window = widgets.VBox()  # Changed to VBox to hold widgets and plot separately\n",
    "plot_output = widgets.Output()  # Separate output widget for the plot inside the customization window\n",
    "\n",
    "\n",
    "# Display the main slide with four plots and the customization window output area\n",
    "display_main_slide()\n",
    "display(main_slide_display, customization_window)"
   ]
  },
  {
   "cell_type": "code",
   "execution_count": 18,
   "id": "55705808-b9c8-4ada-9376-e1b57b4d7d03",
   "metadata": {},
   "outputs": [
    {
     "data": {
      "text/plain": [
       "{'plot_1': {'param1': 0.5, 'param2': 1.0},\n",
       " 'plot_2': {'param1': 0.5, 'param2': 1.0},\n",
       " 'plot_3': {'param1': 0.5, 'param2': 1.0},\n",
       " 'plot_4': {'param1': 0.5, 'param2': 1.0}}"
      ]
     },
     "execution_count": 18,
     "metadata": {},
     "output_type": "execute_result"
    }
   ],
   "source": [
    "selected_parameters"
   ]
  },
  {
   "cell_type": "markdown",
   "id": "700c520a-8787-4e89-9f85-10116dc22dd5",
   "metadata": {},
   "source": [
    "### App flexible graph name, param and position"
   ]
  },
  {
   "cell_type": "code",
   "execution_count": 19,
   "id": "c8ea6772-259b-4349-a3d9-60148a51c65e",
   "metadata": {},
   "outputs": [],
   "source": [
    "# Configuration DataFrame for plots\n",
    "plot_configurations = pd.DataFrame([\n",
    "    {'uid': 'tm', 'function_name': 'plot_graph', 'params': {'param1': 0.5, 'param2': 1.0},\n",
    "     'layout': {'slide': 1, 'position': 'top-left'}},\n",
    "    {'uid': 'plot_2', 'function_name': 'plot_graph', 'params': {'param1': 1.0, 'param2': 0.5},\n",
    "     'layout': {'slide': 1, 'position': 'top-right'}},\n",
    "    {'uid': 'plot_3', 'function_name': 'plot_graph', 'params': {'param1': 0.8, 'param2': 0.8},\n",
    "     'layout': {'slide': 1, 'position': 'bottom-left'}},\n",
    "    {'uid': 'plot_4', 'function_name': 'plot_graph', 'params': {'param1': 1.2, 'param2': 0.6},\n",
    "     'layout': {'slide': 1, 'position': 'bottom-right'}}\n",
    "])\n",
    "\n",
    "# Output display for the main slide and customization window\n",
    "main_slide_display = widgets.Output()\n",
    "customization_window = widgets.VBox()\n",
    "plot_output = widgets.Output()\n",
    "\n",
    "# Example plot function that takes dynamic parameters\n",
    "def plot_graph(ax, **params):\n",
    "    x = np.linspace(0, 10, 100)\n",
    "    y = params['param1'] * np.sin(x) + params['param2'] * np.cos(x)\n",
    "    ax.clear()\n",
    "    ax.plot(x, y)\n",
    "    ax.set_title(\"Customized Graph\")\n",
    "    ax.set_xlabel(\"X-axis\")\n",
    "    ax.set_ylabel(\"Y-axis\")\n",
    "\n",
    "# Function to initialize and display the main slide with dynamic plots and checkboxes\n",
    "def display_main_slide():\n",
    "    with main_slide_display:\n",
    "        clear_output(wait=True)\n",
    "\n",
    "        # Create two rows of plots\n",
    "        row1 = widgets.HBox([create_plot_with_checkbox(config) for config in plot_configurations.iloc[:2].to_dict('records')])\n",
    "        row2 = widgets.HBox([create_plot_with_checkbox(config) for config in plot_configurations.iloc[2:].to_dict('records')])\n",
    "\n",
    "        # Display the main slide\n",
    "        display(widgets.VBox([row1, row2]))\n",
    "\n",
    "def create_plot_with_checkbox(config):\n",
    "    plot_box = widgets.Output()\n",
    "    # Remove the description text by setting it to an empty string\n",
    "    checkbox = widgets.Checkbox(description=\"\", value=False, layout=widgets.Layout(width='auto'))\n",
    "\n",
    "    # Attach observer to checkbox\n",
    "    checkbox.observe(lambda change: handle_checkbox_change(change, config['uid']), names='value')\n",
    "\n",
    "    # Create a figure for the plot based on configuration parameters\n",
    "    with plot_box:\n",
    "        fig, ax = plt.subplots(figsize=(5, 4))\n",
    "        plot_function = globals()[config['function_name']]\n",
    "        plot_function(ax, **config['params'])\n",
    "        plt.show()\n",
    "\n",
    "    # Position the checkbox on the top-right by combining with HBox and VBox layouts\n",
    "    plot_with_checkbox = widgets.VBox([\n",
    "        widgets.HBox([widgets.Label(\"\"), checkbox], layout=widgets.Layout(justify_content='flex-end')),\n",
    "        plot_box\n",
    "    ])\n",
    "\n",
    "    return plot_with_checkbox\n",
    "\n",
    "# Function to handle checkbox change events\n",
    "def handle_checkbox_change(change, uid):\n",
    "    if change['new']:  # Only act if the checkbox is checked\n",
    "        open_customization_window(uid)\n",
    "\n",
    "# Function to open the customization window for a specific plot\n",
    "def open_customization_window(uid):\n",
    "    customization_window.children = []  # Clear previous widgets\n",
    "    \n",
    "    # Retrieve plot configuration by UID\n",
    "    config = plot_configurations.loc[plot_configurations['uid'] == uid].iloc[0]\n",
    "    params = config['params']\n",
    "\n",
    "    # Create customization widgets dynamically based on params in configuration\n",
    "    sliders = []\n",
    "    for param_name, param_value in params.items():\n",
    "        slider = widgets.FloatSlider(value=param_value, min=0.1, max=2.0, step=0.1, description=param_name)\n",
    "        slider.observe(lambda change, name=param_name: update_customization_plot(uid, name, change.new), names='value')\n",
    "        sliders.append(slider)\n",
    "    \n",
    "    save_changes_checkbox = widgets.Checkbox(description=\"Save Changes\", value=False)\n",
    "    save_changes_checkbox.observe(lambda change: save_changes(change, uid), names='value')\n",
    "    \n",
    "    # Display the customization window with sliders and save checkbox\n",
    "    customization_window.children = [widgets.VBox(sliders + [save_changes_checkbox]), plot_output]\n",
    "    update_customization_plot(uid, None, None)  # Initial plot display\n",
    "\n",
    "# Function to update the plot in the customization window dynamically\n",
    "def update_customization_plot(uid, param_name, param_value):\n",
    "    # Update configuration DataFrame with new parameter value\n",
    "    if param_name and param_value is not None:\n",
    "        plot_configurations.loc[plot_configurations['uid'] == uid, 'params'].iloc[0][param_name] = param_value\n",
    "    \n",
    "    # Get updated parameters and redraw plot\n",
    "    params = plot_configurations.loc[plot_configurations['uid'] == uid, 'params'].iloc[0]\n",
    "    with plot_output:\n",
    "        clear_output(wait=True)\n",
    "        fig, custom_ax = plt.subplots(figsize=(5, 4))\n",
    "        plot_graph(custom_ax, **params)\n",
    "        plt.show()\n",
    "\n",
    "# Function to save changes and update the main slide\n",
    "def save_changes(change, uid):\n",
    "    if change['new']:  # Only act if \"Save Changes\" is checked\n",
    "        # Update the main slide and clear the customization window\n",
    "        display_main_slide()\n",
    "        customization_window.children = []  # Clear the customization window"
   ]
  },
  {
   "cell_type": "code",
   "execution_count": 20,
   "id": "8c91e01d-be14-4fc7-9bb4-e5dc90095c40",
   "metadata": {},
   "outputs": [
    {
     "data": {
      "application/vnd.jupyter.widget-view+json": {
       "model_id": "9a513918326e4342a38ac4f16ebd698f",
       "version_major": 2,
       "version_minor": 0
      },
      "text/plain": [
       "Output()"
      ]
     },
     "metadata": {},
     "output_type": "display_data"
    },
    {
     "data": {
      "application/vnd.jupyter.widget-view+json": {
       "model_id": "70f553cec2aa49759a9cc0adeb540aaf",
       "version_major": 2,
       "version_minor": 0
      },
      "text/plain": [
       "VBox()"
      ]
     },
     "metadata": {},
     "output_type": "display_data"
    }
   ],
   "source": [
    "# Display the main slide with four plots and the customization window output area\n",
    "display_main_slide()\n",
    "display(main_slide_display, customization_window)"
   ]
  },
  {
   "cell_type": "code",
   "execution_count": 32,
   "id": "325632b5-dc37-46b8-8cfe-8834ce7c10c6",
   "metadata": {},
   "outputs": [
    {
     "data": {
      "application/vnd.jupyter.widget-view+json": {
       "model_id": "acd2370c39af47a3aa9ca99b3ebff31e",
       "version_major": 2,
       "version_minor": 0
      },
      "text/plain": [
       "Output()"
      ]
     },
     "metadata": {},
     "output_type": "display_data"
    },
    {
     "data": {
      "application/vnd.jupyter.widget-view+json": {
       "model_id": "43cdebced76048f7910ac8a11445c40f",
       "version_major": 2,
       "version_minor": 0
      },
      "text/plain": [
       "VBox()"
      ]
     },
     "metadata": {},
     "output_type": "display_data"
    }
   ],
   "source": [
    "import ipywidgets as widgets\n",
    "from IPython.display import display, clear_output\n",
    "import matplotlib.pyplot as plt\n",
    "import numpy as np\n",
    "import pandas as pd\n",
    "\n",
    "# Configuration DataFrame for plots\n",
    "plot_configurations = pd.DataFrame([\n",
    "    {'uid': 'tm', 'function_name': 'plot_graph', 'params': {'param1': 0.5, 'param2': 1.0}, 'layout': {'slide': 1, 'position': 'top-left'}},\n",
    "    {'uid': 'plot_2', 'function_name': 'plot_graph', 'params': {'param1': 1.0, 'param2': 0.5}, 'layout': {'slide': 1, 'position': 'top-right'}},\n",
    "    {'uid': 'plot_3', 'function_name': 'plot_graph', 'params': {'param1': 0.8, 'param2': 0.8}, 'layout': {'slide': 1, 'position': 'bottom-left'}},\n",
    "    {'uid': 'plot_4', 'function_name': 'plot_graph', 'params': {'param1': 1.2, 'param2': 0.6}, 'layout': {'slide': 1, 'position': 'bottom-right'}}\n",
    "])\n",
    "\n",
    "# Output display for the main slide and customization window\n",
    "main_slide_display = widgets.Output()\n",
    "customization_window = widgets.VBox()\n",
    "plot_output = widgets.Output()\n",
    "\n",
    "# Example plot function that takes dynamic parameters\n",
    "def plot_graph(ax, **params):\n",
    "    x = np.linspace(0, 10, 100)\n",
    "    y = params['param1'] * np.sin(x) + params['param2'] * np.cos(x)\n",
    "    ax.clear()\n",
    "    ax.plot(x, y)\n",
    "    ax.set_title(\"Customized Graph\")\n",
    "    ax.set_xlabel(\"X-axis\")\n",
    "    ax.set_ylabel(\"Y-axis\")\n",
    "\n",
    "# Function to initialize and display the main slide with dynamic plots and checkboxes\n",
    "def display_main_slide():\n",
    "    with main_slide_display:\n",
    "        clear_output(wait=True)\n",
    "        \n",
    "        # Create two rows of plots, fetching updated configurations\n",
    "        row1 = widgets.HBox([create_plot_with_checkbox(config) for config in plot_configurations.iloc[:2].to_dict('records')])\n",
    "        row2 = widgets.HBox([create_plot_with_checkbox(config) for config in plot_configurations.iloc[2:].to_dict('records')])\n",
    "\n",
    "        # Display the main slide\n",
    "        display(widgets.VBox([row1, row2]))\n",
    "\n",
    "def create_plot_with_checkbox(config):\n",
    "    plot_box = widgets.Output()\n",
    "    checkbox = widgets.Checkbox(description=\"\", value=False, layout=widgets.Layout(width='auto'))\n",
    "\n",
    "    # Attach observer to checkbox\n",
    "    checkbox.observe(lambda change: handle_checkbox_change(change, config['uid']), names='value')\n",
    "\n",
    "    # Create a figure for the plot based on configuration parameters\n",
    "    with plot_box:\n",
    "        fig, ax = plt.subplots(figsize=(5, 4))\n",
    "        plot_function = globals()[config['function_name']]\n",
    "        plot_function(ax, **config['params'])\n",
    "        plt.show()\n",
    "\n",
    "    # Position the checkbox on the top-right by combining with HBox and VBox layouts\n",
    "    plot_with_checkbox = widgets.VBox([\n",
    "        widgets.HBox([checkbox], layout=widgets.Layout(justify_content='flex-end')),\n",
    "        plot_box\n",
    "    ])\n",
    "\n",
    "    return plot_with_checkbox\n",
    "\n",
    "# Function to handle checkbox change events\n",
    "def handle_checkbox_change(change, uid):\n",
    "    if change['new']:  # Only act if the checkbox is checked\n",
    "        open_customization_window(uid)\n",
    "\n",
    "# Function to open the customization window for a specific plot\n",
    "def open_customization_window(uid):\n",
    "    customization_window.children = []  # Clear previous widgets\n",
    "    \n",
    "    # Retrieve plot configuration by UID\n",
    "    config = plot_configurations[plot_configurations['uid'] == uid].iloc[0]\n",
    "    params = config['params']\n",
    "\n",
    "    # Create customization widgets dynamically based on params in configuration\n",
    "    sliders = []\n",
    "    for param_name, param_value in params.items():\n",
    "        slider = widgets.FloatSlider(value=param_value, min=0.1, max=2.0, step=0.1, description=param_name)\n",
    "        slider.observe(lambda change, name=param_name: update_customization_plot(uid, name, change.new), names='value')\n",
    "        sliders.append(slider)\n",
    "    \n",
    "    save_changes_checkbox = widgets.Checkbox(description=\"Save Changes\", value=False)\n",
    "    save_changes_checkbox.observe(lambda change: save_changes(change, uid), names='value')\n",
    "    \n",
    "    # Display the customization window with sliders and save checkbox\n",
    "    customization_window.children = [widgets.VBox(sliders + [save_changes_checkbox]), plot_output]\n",
    "    update_customization_plot(uid, None, None)  # Initial plot display\n",
    "\n",
    "# Function to update the plot in the customization window dynamically\n",
    "def update_customization_plot(uid, param_name, param_value):\n",
    "    # Update configuration DataFrame with new parameter value\n",
    "    if param_name and param_value is not None:\n",
    "        # Use .at[] to ensure the DataFrame is updated correctly\n",
    "        idx = plot_configurations.index[plot_configurations['uid'] == uid].tolist()[0]\n",
    "        plot_configurations.at[idx, 'params'][param_name] = param_value\n",
    "    \n",
    "    # Get updated parameters and redraw plot\n",
    "    params = plot_configurations.loc[plot_configurations['uid'] == uid, 'params'].iloc[0]\n",
    "    with plot_output:\n",
    "        clear_output(wait=True)\n",
    "        fig, custom_ax = plt.subplots(figsize=(5, 4))\n",
    "        plot_graph(custom_ax, **params)\n",
    "        plt.show()\n",
    "\n",
    "# Function to save changes and update the main slide\n",
    "def save_changes(change, uid):\n",
    "    if change['new']:  # Only act if \"Save Changes\" is checked\n",
    "        # Update the main slide and clear the customization window\n",
    "        display_main_slide()\n",
    "        customization_window.children = []  # Clear the customization window\n",
    "\n",
    "# Initial display of the main slide\n",
    "display_main_slide()\n",
    "\n",
    "# Display widgets\n",
    "display(main_slide_display)\n",
    "display(customization_window)\n"
   ]
  },
  {
   "cell_type": "markdown",
   "id": "20f8137d-949b-4fdd-a7dd-3b91d65cfe35",
   "metadata": {},
   "source": [
    "### PPT bar menu select view"
   ]
  },
  {
   "cell_type": "code",
   "execution_count": 22,
   "id": "a60337d2-1e04-4929-b1ba-f9baba37540b",
   "metadata": {},
   "outputs": [
    {
     "data": {
      "application/vnd.jupyter.widget-view+json": {
       "model_id": "de65d423c3224070bcf794648f51e4c5",
       "version_major": 2,
       "version_minor": 0
      },
      "text/plain": [
       "HBox(children=(Output(layout=Layout(width='70%')), VBox(children=(VBox(children=(Output(), Checkbox(value=Fals…"
      ]
     },
     "metadata": {},
     "output_type": "display_data"
    }
   ],
   "source": [
    "import ipywidgets as widgets\n",
    "from IPython.display import display, clear_output\n",
    "import matplotlib.pyplot as plt\n",
    "import numpy as np\n",
    "import pandas as pd\n",
    "\n",
    "# Configuration for multiple slides\n",
    "slides = [\n",
    "    {'uid': 'slide_1', 'plots': [\n",
    "        {'uid': 'plot_1', 'function_name': 'plot_graph', 'params': {'param1': 0.5, 'param2': 1.0}, 'position': 'top-left'},\n",
    "        {'uid': 'plot_2', 'function_name': 'plot_graph', 'params': {'param1': 1.0, 'param2': 0.5}, 'position': 'top-right'},\n",
    "        {'uid': 'plot_3', 'function_name': 'plot_graph', 'params': {'param1': 0.8, 'param2': 0.8}, 'position': 'bottom-left'},\n",
    "        {'uid': 'plot_4', 'function_name': 'plot_graph', 'params': {'param1': 1.2, 'param2': 0.6}, 'position': 'bottom-right'}\n",
    "    ]},\n",
    "    {'uid': 'slide_2', 'plots': [\n",
    "        {'uid': 'plot_5', 'function_name': 'plot_graph', 'params': {'param1': 0.3, 'param2': 1.2}, 'position': 'top-left'},\n",
    "        {'uid': 'plot_6', 'function_name': 'plot_graph', 'params': {'param1': 1.1, 'param2': 0.7}, 'position': 'top-right'},\n",
    "        {'uid': 'plot_7', 'function_name': 'plot_graph', 'params': {'param1': 0.7, 'param2': 1.0}, 'position': 'bottom-left'},\n",
    "        {'uid': 'plot_8', 'function_name': 'plot_graph', 'params': {'param1': 1.3, 'param2': 0.9}, 'position': 'bottom-right'}\n",
    "    ]}\n",
    "]\n",
    "\n",
    "# Output display for the selected slide and sidebar for navigation thumbnails\n",
    "main_slide_display = widgets.Output(layout=widgets.Layout(width='70%'))\n",
    "sidebar = widgets.VBox(layout=widgets.Layout(width='30%', overflow_y='auto', max_height='600px', border='1px solid black', padding='5px'))\n",
    "selected_slide_index = 0  # Start by showing the first slide\n",
    "\n",
    "# Plotting function (example)\n",
    "def plot_graph(ax, **params):\n",
    "    x = np.linspace(0, 10, 100)\n",
    "    y = params['param1'] * np.sin(x) + params['param2'] * np.cos(x)\n",
    "    ax.clear()\n",
    "    ax.plot(x, y)\n",
    "    ax.set_title(\"Plot\")\n",
    "    ax.set_xlabel(\"X-axis\")\n",
    "    ax.set_ylabel(\"Y-axis\")\n",
    "\n",
    "# Function to render the main slide view based on the selected slide index\n",
    "def render_slide(slide_index):\n",
    "    slide = slides[slide_index]\n",
    "    with main_slide_display:\n",
    "        clear_output(wait=True)\n",
    "\n",
    "        # Create a figure layout for the main slide display\n",
    "        fig, axs = plt.subplots(2, 2, figsize=(10, 8))\n",
    "        \n",
    "        # Map plot positions to subplot indices\n",
    "        position_map = {'top-left': (0, 0), 'top-right': (0, 1), 'bottom-left': (1, 0), 'bottom-right': (1, 1)}\n",
    "        \n",
    "        # Draw each plot on the slide\n",
    "        for plot in slide['plots']:\n",
    "            pos = position_map[plot['position']]\n",
    "            plot_function = globals()[plot['function_name']]\n",
    "            plot_function(axs[pos], **plot['params'])\n",
    "        \n",
    "        plt.tight_layout()\n",
    "        plt.show()\n",
    "\n",
    "# Function to create a thumbnail for each slide in the sidebar\n",
    "def create_thumbnail(slide_index):\n",
    "    slide = slides[slide_index]\n",
    "    thumbnail = widgets.Output()\n",
    "    with thumbnail:\n",
    "        fig, axs = plt.subplots(2, 2, figsize=(3, 3))\n",
    "        \n",
    "        # Draw mini-plots for each plot in this slide\n",
    "        position_map = {'top-left': (0, 0), 'top-right': (0, 1), 'bottom-left': (1, 0), 'bottom-right': (1, 1)}\n",
    "        for plot in slide['plots']:\n",
    "            pos = position_map[plot['position']]\n",
    "            plot_function = globals()[plot['function_name']]\n",
    "            plot_function(axs[pos], **plot['params'])\n",
    "        \n",
    "        plt.tight_layout()\n",
    "        plt.close(fig)  # Close the figure to prevent duplicate display\n",
    "        display(fig)\n",
    "    \n",
    "    # Checkbox to select this slide\n",
    "    checkbox = widgets.Checkbox(description=\"Select\", value=False, layout=widgets.Layout(width='auto'))\n",
    "    \n",
    "    # Callback to show the slide when checkbox is clicked\n",
    "    def on_checkbox_change(change):\n",
    "        if change['new']:  # Only act if the checkbox is checked\n",
    "            show_slide(slide_index)\n",
    "            checkbox.value = False  # Uncheck after selection to allow re-selection\n",
    "    \n",
    "    checkbox.observe(on_checkbox_change, names='value')\n",
    "    \n",
    "    # Return a VBox with thumbnail and checkbox at the bottom\n",
    "    return widgets.VBox([thumbnail, checkbox], layout=widgets.Layout(margin='5px'))\n",
    "\n",
    "# Function to show a specific slide when a checkbox is clicked\n",
    "def show_slide(slide_index):\n",
    "    global selected_slide_index\n",
    "    selected_slide_index = slide_index\n",
    "    render_slide(slide_index)\n",
    "\n",
    "# Initialize sidebar with thumbnails for all slides\n",
    "sidebar.children = [create_thumbnail(i) for i in range(len(slides))]\n",
    "\n",
    "# Main layout with main slide display and scrollable sidebar on the right\n",
    "main_layout = widgets.HBox([\n",
    "    main_slide_display,\n",
    "    sidebar\n",
    "])\n",
    "\n",
    "# Display the initial slide and the sidebar layout\n",
    "render_slide(selected_slide_index)\n",
    "display(main_layout)"
   ]
  },
  {
   "cell_type": "markdown",
   "id": "03a8199d-0403-4058-811f-782fc69e2b83",
   "metadata": {},
   "source": [
    "### Merge"
   ]
  },
  {
   "cell_type": "code",
   "execution_count": null,
   "id": "ad39d698-9f11-4fa9-80f8-3d20531cc6ce",
   "metadata": {},
   "outputs": [],
   "source": []
  }
 ],
 "metadata": {
  "kernelspec": {
   "display_name": "Python 3 (ipykernel)",
   "language": "python",
   "name": "python3"
  },
  "language_info": {
   "codemirror_mode": {
    "name": "ipython",
    "version": 3
   },
   "file_extension": ".py",
   "mimetype": "text/x-python",
   "name": "python",
   "nbconvert_exporter": "python",
   "pygments_lexer": "ipython3",
   "version": "3.11.7"
  }
 },
 "nbformat": 4,
 "nbformat_minor": 5
}
