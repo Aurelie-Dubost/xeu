{
 "cells": [
  {
   "cell_type": "code",
   "execution_count": 1,
   "id": "b160adc3-1aa5-451d-a15e-a99403c5f2d3",
   "metadata": {},
   "outputs": [
    {
     "data": {
      "application/vnd.jupyter.widget-view+json": {
       "model_id": "ecde2012cfc044afbae7d07489ca2aa6",
       "version_major": 2,
       "version_minor": 0
      },
      "text/plain": [
       "Dropdown(description='Zones:', options=('Global Indices', 'US Stocks', 'European Stocks'), value='Global Indic…"
      ]
     },
     "metadata": {},
     "output_type": "display_data"
    },
    {
     "data": {
      "application/vnd.jupyter.widget-view+json": {
       "model_id": "2d3fc9029a9f434a89b5488ac1b1657a",
       "version_major": 2,
       "version_minor": 0
      },
      "text/plain": [
       "Dropdown(description='Underlyings:', options=('EU_STOXX50E', 'EU_SXXP', 'EU_SX7E'), value='EU_STOXX50E')"
      ]
     },
     "metadata": {},
     "output_type": "display_data"
    },
    {
     "data": {
      "application/vnd.jupyter.widget-view+json": {
       "model_id": "e8ef82c0293c47afa16122089d150dd8",
       "version_major": 2,
       "version_minor": 0
      },
      "text/plain": [
       "Dropdown(description='Vol Type:', options=('Moneyness', 'ATM', 'IV'), value='Moneyness')"
      ]
     },
     "metadata": {},
     "output_type": "display_data"
    },
    {
     "data": {
      "application/vnd.jupyter.widget-view+json": {
       "model_id": "1ebfede0a58242a18d8c64deac84757e",
       "version_major": 2,
       "version_minor": 0
      },
      "text/plain": [
       "IntSlider(value=100, description='Param Level:', max=200, step=10)"
      ]
     },
     "metadata": {},
     "output_type": "display_data"
    },
    {
     "data": {
      "application/vnd.jupyter.widget-view+json": {
       "model_id": "da2b5dbd38444d58abee07781bf3f5db",
       "version_major": 2,
       "version_minor": 0
      },
      "text/plain": [
       "IntSlider(value=1, description='Vol Mat (months):', max=12, min=1)"
      ]
     },
     "metadata": {},
     "output_type": "display_data"
    },
    {
     "data": {
      "application/vnd.jupyter.widget-view+json": {
       "model_id": "6cfc9ff7571f45028a1faa0823c17cc7",
       "version_major": 2,
       "version_minor": 0
      },
      "text/plain": [
       "IntSlider(value=21, description='Real Vol Mat (b-days):', max=252, min=1)"
      ]
     },
     "metadata": {},
     "output_type": "display_data"
    },
    {
     "data": {
      "application/vnd.jupyter.widget-view+json": {
       "model_id": "556c20f0cccc4fbc9c8b03a59ac6f500",
       "version_major": 2,
       "version_minor": 0
      },
      "text/plain": [
       "DatePicker(value=None, description='Start Date', step=1)"
      ]
     },
     "metadata": {},
     "output_type": "display_data"
    },
    {
     "data": {
      "application/vnd.jupyter.widget-view+json": {
       "model_id": "8d4bd2213b9c43569a6d9332fc14898f",
       "version_major": 2,
       "version_minor": 0
      },
      "text/plain": [
       "DatePicker(value=None, description='End Date', step=1)"
      ]
     },
     "metadata": {},
     "output_type": "display_data"
    },
    {
     "data": {
      "application/vnd.jupyter.widget-view+json": {
       "model_id": "2d7e372ab7d149e8a6d786af65743282",
       "version_major": 2,
       "version_minor": 0
      },
      "text/plain": [
       "FloatSlider(value=0.25, description='Call Strike:', max=1.0, step=0.05)"
      ]
     },
     "metadata": {},
     "output_type": "display_data"
    },
    {
     "data": {
      "application/vnd.jupyter.widget-view+json": {
       "model_id": "b015630e312045b2bcccfc8fc0961640",
       "version_major": 2,
       "version_minor": 0
      },
      "text/plain": [
       "FloatSlider(value=0.25, description='Put Strike:', max=1.0, step=0.05)"
      ]
     },
     "metadata": {},
     "output_type": "display_data"
    }
   ],
   "source": [
    "import ipywidgets as widgets\n",
    "from IPython.display import display\n",
    "\n",
    "# Initialize the dictionary to store selected parameters\n",
    "selected_parameters = {}\n",
    "\n",
    "# Define the function to update parameters\n",
    "def update_parameters(param_name, widget):\n",
    "    selected_parameters[param_name] = widget.value\n",
    "\n",
    "# Create widgets for each parameter\n",
    "zones_dropdown = widgets.Dropdown(options=['Global Indices', 'US Stocks', 'European Stocks'],description='Zones:')\n",
    "underlyings_dropdown = widgets.Dropdown(options=['EU_STOXX50E', 'EU_SXXP', 'EU_SX7E'],description='Underlyings:')\n",
    "vol_type_dropdown = widgets.Dropdown(options=['Moneyness', 'ATM', 'IV'],description='Vol Type:')\n",
    "param_level_slider = widgets.IntSlider(value=100,min=0,max=200,step=10,description='Param Level:')\n",
    "vol_mat_dropdown = widgets.IntSlider(value=1,min=1,max=12,step=1,description='Vol Mat (months):')\n",
    "real_vol_mat_slider = widgets.IntSlider(value=21,min=1,max=252,step=1,description='Real Vol Mat (b-days):')\n",
    "start_date_picker = widgets.DatePicker(description=\"Start Date\")\n",
    "end_date_picker = widgets.DatePicker(description=\"End Date\")\n",
    "call_strike_dropdown = widgets.FloatSlider(value=0.25,min=0.0,max=1.0,step=0.05,description=\"Call Strike:\")\n",
    "put_strike_dropdown.observe(lambda change: update_parameters('Put Strike', put_strike_dropdown), names='value')\n",
    "\n",
    "# Update selected_parameters dict based on selection\n",
    "zones_dropdown.observe(lambda change: update_parameters('Zone', zones_dropdown), names='value')\n",
    "underlyings_dropdown.observe(lambda change: update_parameters('Underlying', underlyings_dropdown), names='value')\n",
    "vol_type_dropdown.observe(lambda change: update_parameters('Vol Type', vol_type_dropdown), names='value')\n",
    "param_level_slider.observe(lambda change: update_parameters('Param Level', param_level_slider), names='value')\n",
    "vol_mat_dropdown.observe(lambda change: update_parameters('Vol Mat (months)', vol_mat_dropdown), names='value')\n",
    "real_vol_mat_slider.observe(lambda change: update_parameters('Real Vol Mat', real_vol_mat_slider), names='value')\n",
    "start_date_picker.observe(lambda change: update_parameters('Start Date', start_date_picker), names='value')\n",
    "end_date_picker.observe(lambda change: update_parameters('End Date', end_date_picker), names='value')\n",
    "call_strike_dropdown.observe(lambda change: update_parameters('Call Strike', call_strike_dropdown), names='value')\n",
    "put_strike_dropdown.observe(lambda change: update_parameters('Put Strike', put_strike_dropdown), names='value')\n",
    "\n",
    "# Display all widgets together\n",
    "display(zones_dropdown, underlyings_dropdown, vol_type_dropdown, param_level_slider,vol_mat_dropdown, real_vol_mat_slider, start_date_picker, end_date_picker,call_strike_dropdown, put_strike_dropdown)"
   ]
  },
  {
   "cell_type": "code",
   "execution_count": 4,
   "id": "27a455a8-246b-4a96-887b-e76900d65551",
   "metadata": {},
   "outputs": [
    {
     "data": {
      "text/plain": [
       "{'Zone': 'European Stocks', 'Underlying': 'EU_SX7E'}"
      ]
     },
     "execution_count": 4,
     "metadata": {},
     "output_type": "execute_result"
    }
   ],
   "source": [
    "# This selected_parameters dictionary now reflects the current state of all widget inputs in real-time.\n",
    "selected_parameters"
   ]
  },
  {
   "cell_type": "code",
   "execution_count": null,
   "id": "41f94445-f648-4607-83e4-561f3fe69874",
   "metadata": {},
   "outputs": [],
   "source": []
  }
 ],
 "metadata": {
  "kernelspec": {
   "display_name": "Python 3 (ipykernel)",
   "language": "python",
   "name": "python3"
  },
  "language_info": {
   "codemirror_mode": {
    "name": "ipython",
    "version": 3
   },
   "file_extension": ".py",
   "mimetype": "text/x-python",
   "name": "python",
   "nbconvert_exporter": "python",
   "pygments_lexer": "ipython3",
   "version": "3.11.7"
  }
 },
 "nbformat": 4,
 "nbformat_minor": 5
}
