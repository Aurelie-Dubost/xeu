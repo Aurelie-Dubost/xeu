{
 "cells": [
  {
   "cell_type": "markdown",
   "id": "f1bcf33a",
   "metadata": {},
   "source": [
    "For each choices on template dropdown, different app layout are\n",
    "\n",
    "To organize different layouts for each choice in the template dropdown efficiently, \n",
    "\n",
    "Create separate functions for each layout and then use a dictionary to map each template choice to its corresponding layout function. "
   ]
  },
  {
   "cell_type": "code",
   "execution_count": 5,
   "id": "d1ce7752",
   "metadata": {},
   "outputs": [],
   "source": [
    "import ipywidgets as widgets\n",
    "from IPython.display import display, clear_output"
   ]
  },
  {
   "cell_type": "code",
   "execution_count": 6,
   "id": "48c55c0a",
   "metadata": {},
   "outputs": [],
   "source": [
    "# Define the function to update the app layout based on the selected template\n",
    "def on_template_change(change):\n",
    "    selected_template = change['new']\n",
    "    if selected_template in template_layouts:\n",
    "        # Call the corresponding layout function\n",
    "        template_layouts[selected_template]()\n",
    "    else:\n",
    "        # If no layout is defined for the selected template, clear the output\n",
    "        clear_output()\n",
    "\n",
    "# Define the layout functions for each template choice\n",
    "def platform_layout():\n",
    "    display(platform_dropdown)\n",
    "\n",
    "def excel_layout():\n",
    "    clear_output()\n",
    "    print(\"Excel template layout\")\n",
    "\n",
    "def ppt_layout():\n",
    "    clear_output()\n",
    "    print(\"PPT template layout\")\n",
    "\n",
    "def python_layout():\n",
    "    clear_output()\n",
    "    print(\"Python template layout\")\n",
    "\n"
   ]
  },
  {
   "cell_type": "code",
   "execution_count": 9,
   "id": "97ebbcd6",
   "metadata": {},
   "outputs": [
    {
     "data": {
      "application/vnd.jupyter.widget-view+json": {
       "model_id": "6612a20852be4e3988a665e8d7e357f3",
       "version_major": 2,
       "version_minor": 0
      },
      "text/plain": [
       "Dropdown(description='Choose a Template:', options=('Platform', 'Excel', 'PPT', 'Python'), style=DescriptionSt…"
      ]
     },
     "metadata": {},
     "output_type": "display_data"
    },
    {
     "ename": "NameError",
     "evalue": "name 'platforms' is not defined",
     "output_type": "error",
     "traceback": [
      "\u001b[0;31m---------------------------------------------------------------------------\u001b[0m",
      "\u001b[0;31mNameError\u001b[0m                                 Traceback (most recent call last)",
      "\u001b[0;32m<ipython-input-9-63872c7baa02>\u001b[0m in \u001b[0;36m<module>\u001b[0;34m\u001b[0m\n\u001b[1;32m     78\u001b[0m \u001b[0;34m\u001b[0m\u001b[0m\n\u001b[1;32m     79\u001b[0m \u001b[0;31m# Initialize the platform dropdown menu options\u001b[0m\u001b[0;34m\u001b[0m\u001b[0;34m\u001b[0m\u001b[0;34m\u001b[0m\u001b[0m\n\u001b[0;32m---> 80\u001b[0;31m \u001b[0mtemplate_platforms\u001b[0m \u001b[0;34m=\u001b[0m \u001b[0;34m{\u001b[0m\u001b[0mtemplate\u001b[0m\u001b[0;34m:\u001b[0m \u001b[0;34m[\u001b[0m\u001b[0mitem\u001b[0m\u001b[0;34m[\u001b[0m\u001b[0;36m0\u001b[0m\u001b[0;34m]\u001b[0m \u001b[0;32mfor\u001b[0m \u001b[0mitem\u001b[0m \u001b[0;32min\u001b[0m \u001b[0mplatforms\u001b[0m\u001b[0;34m[\u001b[0m\u001b[0mtemplate\u001b[0m\u001b[0;34m]\u001b[0m\u001b[0;34m]\u001b[0m \u001b[0;32mfor\u001b[0m \u001b[0mtemplate\u001b[0m \u001b[0;32min\u001b[0m \u001b[0mtemplates\u001b[0m\u001b[0;34m}\u001b[0m\u001b[0;34m\u001b[0m\u001b[0;34m\u001b[0m\u001b[0m\n\u001b[0m\u001b[1;32m     81\u001b[0m \u001b[0mon_template_change\u001b[0m\u001b[0;34m(\u001b[0m\u001b[0;34m{\u001b[0m\u001b[0;34m'new'\u001b[0m\u001b[0;34m:\u001b[0m \u001b[0mtemplates\u001b[0m\u001b[0;34m[\u001b[0m\u001b[0;36m0\u001b[0m\u001b[0;34m]\u001b[0m\u001b[0;34m}\u001b[0m\u001b[0;34m)\u001b[0m\u001b[0;34m\u001b[0m\u001b[0;34m\u001b[0m\u001b[0m\n",
      "\u001b[0;32m<ipython-input-9-63872c7baa02>\u001b[0m in \u001b[0;36m<dictcomp>\u001b[0;34m(.0)\u001b[0m\n\u001b[1;32m     78\u001b[0m \u001b[0;34m\u001b[0m\u001b[0m\n\u001b[1;32m     79\u001b[0m \u001b[0;31m# Initialize the platform dropdown menu options\u001b[0m\u001b[0;34m\u001b[0m\u001b[0;34m\u001b[0m\u001b[0;34m\u001b[0m\u001b[0m\n\u001b[0;32m---> 80\u001b[0;31m \u001b[0mtemplate_platforms\u001b[0m \u001b[0;34m=\u001b[0m \u001b[0;34m{\u001b[0m\u001b[0mtemplate\u001b[0m\u001b[0;34m:\u001b[0m \u001b[0;34m[\u001b[0m\u001b[0mitem\u001b[0m\u001b[0;34m[\u001b[0m\u001b[0;36m0\u001b[0m\u001b[0;34m]\u001b[0m \u001b[0;32mfor\u001b[0m \u001b[0mitem\u001b[0m \u001b[0;32min\u001b[0m \u001b[0mplatforms\u001b[0m\u001b[0;34m[\u001b[0m\u001b[0mtemplate\u001b[0m\u001b[0;34m]\u001b[0m\u001b[0;34m]\u001b[0m \u001b[0;32mfor\u001b[0m \u001b[0mtemplate\u001b[0m \u001b[0;32min\u001b[0m \u001b[0mtemplates\u001b[0m\u001b[0;34m}\u001b[0m\u001b[0;34m\u001b[0m\u001b[0;34m\u001b[0m\u001b[0m\n\u001b[0m\u001b[1;32m     81\u001b[0m \u001b[0mon_template_change\u001b[0m\u001b[0;34m(\u001b[0m\u001b[0;34m{\u001b[0m\u001b[0;34m'new'\u001b[0m\u001b[0;34m:\u001b[0m \u001b[0mtemplates\u001b[0m\u001b[0;34m[\u001b[0m\u001b[0;36m0\u001b[0m\u001b[0;34m]\u001b[0m\u001b[0;34m}\u001b[0m\u001b[0;34m)\u001b[0m\u001b[0;34m\u001b[0m\u001b[0;34m\u001b[0m\u001b[0m\n",
      "\u001b[0;31mNameError\u001b[0m: name 'platforms' is not defined"
     ]
    }
   ],
   "source": [
    "import ipywidgets as widgets\n",
    "from IPython.display import display, clear_output\n",
    "\n",
    "# Define the function to update the app layout based on the selected template\n",
    "def on_template_change(change):\n",
    "    selected_template = change['new']\n",
    "    if selected_template in template_layouts:\n",
    "        # Call the corresponding layout function\n",
    "        template_layouts[selected_template]()\n",
    "    else:\n",
    "        # If no layout is defined for the selected template, clear the output\n",
    "        clear_output()\n",
    "\n",
    "# Define the layout functions for each template choice\n",
    "def platform_layout():\n",
    "    # Display the platform dropdown\n",
    "    display(platform_dropdown)\n",
    "    if platform_dropdown.value == 'Platform':\n",
    "        display(second_dropdown_platform)\n",
    "\n",
    "def ppt_layout():\n",
    "    # Display the layout for PPT template\n",
    "    clear_output()\n",
    "    print(\"PPT template layout\")\n",
    "    display(second_dropdown_ppt)\n",
    "\n",
    "def excel_layout():\n",
    "    # Display the layout for Excel template\n",
    "    clear_output()\n",
    "    print(\"Excel template layout\")\n",
    "\n",
    "def python_layout():\n",
    "    # Display the layout for Python template\n",
    "    clear_output()\n",
    "    print(\"Python template layout\")\n",
    "\n",
    "# Define the templates and their corresponding layout functions\n",
    "templates = [\"Platform\", \"Excel\", \"PPT\", \"Python\"]\n",
    "template_layouts = {\n",
    "    \"Platform\": platform_layout,\n",
    "    \"Excel\": excel_layout,\n",
    "    \"PPT\": ppt_layout,\n",
    "    \"Python\": python_layout\n",
    "}\n",
    "\n",
    "# Create the dropdown widget for templates\n",
    "template_dropdown = widgets.Dropdown(\n",
    "    options=templates,\n",
    "    description='Choose a Template:',\n",
    "    style={'description_width': 'initial'}\n",
    ")\n",
    "\n",
    "# Create the platform dropdown widget\n",
    "platform_dropdown = widgets.Dropdown(\n",
    "    description='Choose a Platform:',\n",
    "    style={'description_width': 'initial'}\n",
    ")\n",
    "\n",
    "# Create the second dropdown for \"Platform\" template\n",
    "second_dropdown_platform = widgets.Dropdown(\n",
    "    options=['Option 1', 'Option 2', 'Option 3'],\n",
    "    description='Choose an Option:',\n",
    "    style={'description_width': 'initial'}\n",
    ")\n",
    "\n",
    "# Create the second dropdown for \"PPT\" template\n",
    "second_dropdown_ppt = widgets.RadioButtons(\n",
    "    options=['Trade idea', 'Deep Dive', 'Data Watch'],\n",
    "    description='Choose an Option:',\n",
    "    style={'description_width': 'initial'}\n",
    ")\n",
    "\n",
    "# Display the template dropdown\n",
    "display(template_dropdown)\n",
    "\n",
    "# Update the app layout when the template is changed\n",
    "template_dropdown.observe(on_template_change, names='value')\n",
    "\n",
    "# Initialize the platform dropdown menu options\n",
    "template_platforms = {template: [item[0] for item in platforms[template]] for template in templates}\n",
    "on_template_change({'new': templates[0]})\n"
   ]
  },
  {
   "cell_type": "markdown",
   "id": "235e872c",
   "metadata": {},
   "source": [
    "This code provides a minimal GUI for selecting a template (portrait or landscape), choosing a graph type (Line, Bar, Scatter, Pie), and two buttons—one to display the selected graph type and another to generate and save a PowerPoint presentation with a single slide containing the chosen graph.\n",
    "\n",
    "Template and Graph Type Selection: Allows the user to choose a presentation template and the type of graph they wish to create.\n",
    "Display Graph: Upon clicking the \"Display Graph\" button, the selected graph type is displayed using matplotlib.\n",
    "Generate PowerPoint: The \"Print PPT\" button triggers the generation of a PowerPoint file with the chosen graph inserted as an image on a slide. The presentation is saved to a file named \"Generated_Presentation.pptx\".\n",
    "This script serves as a foundational example that can be expanded with more complex logic, such as handling multiple slides and graphs, customizing graph appearance, and adding more detailed interactivity based on user inputs.\n",
    "\n",
    "\n",
    "\n",
    "\n"
   ]
  },
  {
   "cell_type": "code",
   "execution_count": 10,
   "id": "a469b008",
   "metadata": {},
   "outputs": [
    {
     "data": {
      "application/vnd.jupyter.widget-view+json": {
       "model_id": "ecc1f39efe7546c0932dece09ba0aaf0",
       "version_major": 2,
       "version_minor": 0
      },
      "text/plain": [
       "Dropdown(description='Choose a Template:', options=('Platform', 'Excel', 'PPT', 'Python'), style=DescriptionSt…"
      ]
     },
     "metadata": {},
     "output_type": "display_data"
    },
    {
     "data": {
      "application/vnd.jupyter.widget-view+json": {
       "model_id": "7440bc1d769e410287b6f597f1179bef",
       "version_major": 2,
       "version_minor": 0
      },
      "text/plain": [
       "Dropdown(description='Choose a Platform:', layout=Layout(visibility='hidden'), options=(), style=DescriptionSt…"
      ]
     },
     "metadata": {},
     "output_type": "display_data"
    },
    {
     "data": {
      "application/vnd.jupyter.widget-view+json": {
       "model_id": "af059ed9a69b460babbad4e033b34985",
       "version_major": 2,
       "version_minor": 0
      },
      "text/plain": [
       "Dropdown(description='Choose an Option:', layout=Layout(visibility='hidden'), options=('Option 1', 'Option 2',…"
      ]
     },
     "metadata": {},
     "output_type": "display_data"
    },
    {
     "data": {
      "application/vnd.jupyter.widget-view+json": {
       "model_id": "9a4c8f74d4fa42678a20168bfb8c9dec",
       "version_major": 2,
       "version_minor": 0
      },
      "text/plain": [
       "RadioButtons(description='Choose an Option:', layout=Layout(visibility='hidden'), options=('Vol Monitor', 'Tra…"
      ]
     },
     "metadata": {},
     "output_type": "display_data"
    },
    {
     "ename": "NameError",
     "evalue": "name 'platforms' is not defined",
     "output_type": "error",
     "traceback": [
      "\u001b[0;31m---------------------------------------------------------------------------\u001b[0m",
      "\u001b[0;31mNameError\u001b[0m                                 Traceback (most recent call last)",
      "\u001b[0;32m<ipython-input-10-6391934bbd35>\u001b[0m in \u001b[0;36m<module>\u001b[0;34m\u001b[0m\n\u001b[1;32m     86\u001b[0m \u001b[0;34m\u001b[0m\u001b[0m\n\u001b[1;32m     87\u001b[0m \u001b[0;31m# Initialize the platform dropdown menu options\u001b[0m\u001b[0;34m\u001b[0m\u001b[0;34m\u001b[0m\u001b[0;34m\u001b[0m\u001b[0m\n\u001b[0;32m---> 88\u001b[0;31m \u001b[0mtemplate_platforms\u001b[0m \u001b[0;34m=\u001b[0m \u001b[0;34m{\u001b[0m\u001b[0mtemplate\u001b[0m\u001b[0;34m:\u001b[0m \u001b[0;34m[\u001b[0m\u001b[0mitem\u001b[0m\u001b[0;34m[\u001b[0m\u001b[0;36m0\u001b[0m\u001b[0;34m]\u001b[0m \u001b[0;32mfor\u001b[0m \u001b[0mitem\u001b[0m \u001b[0;32min\u001b[0m \u001b[0mplatforms\u001b[0m\u001b[0;34m[\u001b[0m\u001b[0mtemplate\u001b[0m\u001b[0;34m]\u001b[0m\u001b[0;34m]\u001b[0m \u001b[0;32mfor\u001b[0m \u001b[0mtemplate\u001b[0m \u001b[0;32min\u001b[0m \u001b[0mtemplates\u001b[0m\u001b[0;34m}\u001b[0m\u001b[0;34m\u001b[0m\u001b[0;34m\u001b[0m\u001b[0m\n\u001b[0m\u001b[1;32m     89\u001b[0m \u001b[0mon_template_change\u001b[0m\u001b[0;34m(\u001b[0m\u001b[0;34m{\u001b[0m\u001b[0;34m'new'\u001b[0m\u001b[0;34m:\u001b[0m \u001b[0mtemplates\u001b[0m\u001b[0;34m[\u001b[0m\u001b[0;36m0\u001b[0m\u001b[0;34m]\u001b[0m\u001b[0;34m}\u001b[0m\u001b[0;34m)\u001b[0m\u001b[0;34m\u001b[0m\u001b[0;34m\u001b[0m\u001b[0m\n",
      "\u001b[0;32m<ipython-input-10-6391934bbd35>\u001b[0m in \u001b[0;36m<dictcomp>\u001b[0;34m(.0)\u001b[0m\n\u001b[1;32m     86\u001b[0m \u001b[0;34m\u001b[0m\u001b[0m\n\u001b[1;32m     87\u001b[0m \u001b[0;31m# Initialize the platform dropdown menu options\u001b[0m\u001b[0;34m\u001b[0m\u001b[0;34m\u001b[0m\u001b[0;34m\u001b[0m\u001b[0m\n\u001b[0;32m---> 88\u001b[0;31m \u001b[0mtemplate_platforms\u001b[0m \u001b[0;34m=\u001b[0m \u001b[0;34m{\u001b[0m\u001b[0mtemplate\u001b[0m\u001b[0;34m:\u001b[0m \u001b[0;34m[\u001b[0m\u001b[0mitem\u001b[0m\u001b[0;34m[\u001b[0m\u001b[0;36m0\u001b[0m\u001b[0;34m]\u001b[0m \u001b[0;32mfor\u001b[0m \u001b[0mitem\u001b[0m \u001b[0;32min\u001b[0m \u001b[0mplatforms\u001b[0m\u001b[0;34m[\u001b[0m\u001b[0mtemplate\u001b[0m\u001b[0;34m]\u001b[0m\u001b[0;34m]\u001b[0m \u001b[0;32mfor\u001b[0m \u001b[0mtemplate\u001b[0m \u001b[0;32min\u001b[0m \u001b[0mtemplates\u001b[0m\u001b[0;34m}\u001b[0m\u001b[0;34m\u001b[0m\u001b[0;34m\u001b[0m\u001b[0m\n\u001b[0m\u001b[1;32m     89\u001b[0m \u001b[0mon_template_change\u001b[0m\u001b[0;34m(\u001b[0m\u001b[0;34m{\u001b[0m\u001b[0;34m'new'\u001b[0m\u001b[0;34m:\u001b[0m \u001b[0mtemplates\u001b[0m\u001b[0;34m[\u001b[0m\u001b[0;36m0\u001b[0m\u001b[0;34m]\u001b[0m\u001b[0;34m}\u001b[0m\u001b[0;34m)\u001b[0m\u001b[0;34m\u001b[0m\u001b[0;34m\u001b[0m\u001b[0m\n",
      "\u001b[0;31mNameError\u001b[0m: name 'platforms' is not defined"
     ]
    }
   ],
   "source": [
    "import ipywidgets as widgets\n",
    "from IPython.display import display, clear_output\n",
    "\n",
    "# Define the function to update the app layout based on the selected template\n",
    "def on_template_change(change):\n",
    "    selected_template = change['new']\n",
    "    if selected_template in template_layouts:\n",
    "        # Call the corresponding layout function\n",
    "        template_layouts[selected_template]()\n",
    "    else:\n",
    "        # If no layout is defined for the selected template, clear the output\n",
    "        clear_output()\n",
    "\n",
    "# Define the layout functions for each template choice\n",
    "def platform_layout():\n",
    "    # Display the platform dropdown\n",
    "    platform_dropdown.layout.visibility = 'visible'\n",
    "    second_dropdown_ppt.layout.visibility = 'hidden'\n",
    "    second_dropdown_platform.layout.visibility = 'visible'\n",
    "\n",
    "def ppt_layout():\n",
    "    # Display the layout for PPT template\n",
    "    platform_dropdown.layout.visibility = 'hidden'\n",
    "    second_dropdown_ppt.layout.visibility = 'visible'\n",
    "    second_dropdown_platform.layout.visibility = 'hidden'\n",
    "\n",
    "def excel_layout():\n",
    "    # Display the layout for Excel template\n",
    "    platform_dropdown.layout.visibility = 'hidden'\n",
    "    second_dropdown_ppt.layout.visibility = 'hidden'\n",
    "    second_dropdown_platform.layout.visibility = 'hidden'\n",
    "\n",
    "def python_layout():\n",
    "    # Display the layout for Python template\n",
    "    platform_dropdown.layout.visibility = 'hidden'\n",
    "    second_dropdown_ppt.layout.visibility = 'hidden'\n",
    "    second_dropdown_platform.layout.visibility = 'hidden'\n",
    "\n",
    "# Define the templates and their corresponding layout functions\n",
    "templates = [\"Platform\", \"Excel\", \"PPT\", \"Python\"]\n",
    "template_layouts = {\n",
    "    \"Platform\": platform_layout,\n",
    "    \"Excel\": excel_layout,\n",
    "    \"PPT\": ppt_layout,\n",
    "    \"Python\": python_layout\n",
    "}\n",
    "\n",
    "# Create the dropdown widget for templates\n",
    "template_dropdown = widgets.Dropdown(\n",
    "    options=templates,\n",
    "    description='Choose a Template:',\n",
    "    style={'description_width': 'initial'}\n",
    ")\n",
    "\n",
    "# Create the platform dropdown widget\n",
    "platform_dropdown = widgets.Dropdown(\n",
    "    description='Choose a Platform:',\n",
    "    style={'description_width': 'initial'},\n",
    "    layout={'visibility': 'hidden'}\n",
    ")\n",
    "\n",
    "# Create the second dropdown for \"Platform\" template\n",
    "second_dropdown_platform = widgets.Dropdown(\n",
    "    options=['Option 1', 'Option 2', 'Option 3'],\n",
    "    description='Choose an Option:',\n",
    "    style={'description_width': 'initial'},\n",
    "    layout={'visibility': 'hidden'}\n",
    ")\n",
    "\n",
    "# Create the second dropdown for \"PPT\" template\n",
    "second_dropdown_ppt = widgets.RadioButtons(\n",
    "    options=['Vol Monitor','Trade idea', 'Deep Dive', 'Data Watch'],\n",
    "    description='Choose an Option:',\n",
    "    style={'description_width': 'initial'},\n",
    "    layout={'visibility': 'hidden'}\n",
    ")\n",
    "\n",
    "# Display the dropdowns\n",
    "display(template_dropdown)\n",
    "display(platform_dropdown)\n",
    "display(second_dropdown_platform)\n",
    "display(second_dropdown_ppt)\n",
    "\n",
    "# Update the app layout when the template is changed\n",
    "template_dropdown.observe(on_template_change, names='value')\n",
    "\n",
    "# Initialize the platform dropdown menu options\n",
    "template_platforms = {template: [item[0] for item in platforms[template]] for template in templates}\n",
    "on_template_change({'new': templates[0]})\n"
   ]
  },
  {
   "cell_type": "code",
   "execution_count": 2,
   "id": "3e00fb81",
   "metadata": {},
   "outputs": [
    {
     "name": "stdout",
     "output_type": "stream",
     "text": [
      "Requirement already satisfied: python-pptx in /Users/aureliedubost/anaconda3/lib/python3.11/site-packages (0.6.23)\r\n",
      "Requirement already satisfied: lxml>=3.1.0 in /Users/aureliedubost/anaconda3/lib/python3.11/site-packages (from python-pptx) (4.9.3)\r\n",
      "Requirement already satisfied: Pillow>=3.3.2 in /Users/aureliedubost/anaconda3/lib/python3.11/site-packages (from python-pptx) (9.4.0)\r\n",
      "Requirement already satisfied: XlsxWriter>=0.5.7 in /Users/aureliedubost/anaconda3/lib/python3.11/site-packages (from python-pptx) (3.1.9)\r\n"
     ]
    }
   ],
   "source": [
    "!pip install python-pptx\n",
    "\n"
   ]
  },
  {
   "cell_type": "code",
   "execution_count": 5,
   "id": "e305b974",
   "metadata": {},
   "outputs": [
    {
     "ename": "ModuleNotFoundError",
     "evalue": "No module named 'pptx'",
     "output_type": "error",
     "traceback": [
      "\u001b[0;31m---------------------------------------------------------------------------\u001b[0m",
      "\u001b[0;31mModuleNotFoundError\u001b[0m                       Traceback (most recent call last)",
      "\u001b[0;32m<ipython-input-5-eff9385ed022>\u001b[0m in \u001b[0;36m<module>\u001b[0;34m\u001b[0m\n\u001b[1;32m      2\u001b[0m \u001b[0;32mfrom\u001b[0m \u001b[0mIPython\u001b[0m\u001b[0;34m.\u001b[0m\u001b[0mdisplay\u001b[0m \u001b[0;32mimport\u001b[0m \u001b[0mdisplay\u001b[0m\u001b[0;34m\u001b[0m\u001b[0;34m\u001b[0m\u001b[0m\n\u001b[1;32m      3\u001b[0m \u001b[0;32mimport\u001b[0m \u001b[0mmatplotlib\u001b[0m\u001b[0;34m.\u001b[0m\u001b[0mpyplot\u001b[0m \u001b[0;32mas\u001b[0m \u001b[0mplt\u001b[0m\u001b[0;34m\u001b[0m\u001b[0;34m\u001b[0m\u001b[0m\n\u001b[0;32m----> 4\u001b[0;31m \u001b[0;32mfrom\u001b[0m \u001b[0mpptx\u001b[0m \u001b[0;32mimport\u001b[0m \u001b[0mPresentation\u001b[0m\u001b[0;34m\u001b[0m\u001b[0;34m\u001b[0m\u001b[0m\n\u001b[0m\u001b[1;32m      5\u001b[0m \u001b[0;32mfrom\u001b[0m \u001b[0mpptx\u001b[0m\u001b[0;34m.\u001b[0m\u001b[0mutil\u001b[0m \u001b[0;32mimport\u001b[0m \u001b[0mInches\u001b[0m\u001b[0;34m\u001b[0m\u001b[0;34m\u001b[0m\u001b[0m\n\u001b[1;32m      6\u001b[0m \u001b[0;32mimport\u001b[0m \u001b[0mtempfile\u001b[0m\u001b[0;34m\u001b[0m\u001b[0;34m\u001b[0m\u001b[0m\n",
      "\u001b[0;31mModuleNotFoundError\u001b[0m: No module named 'pptx'"
     ]
    }
   ],
   "source": [
    "import ipywidgets as widgets\n",
    "from IPython.display import display\n",
    "import matplotlib.pyplot as plt\n",
    "\n",
    "from pptx import Presentation\n",
    "from pptx.util import Inches\n",
    "import tempfile\n",
    "import os\n",
    "\n",
    "# Function to generate a matplotlib chart based on a type\n",
    "def create_chart(chart_type='Line'):\n",
    "    fig, ax = plt.subplots()\n",
    "    x = [1, 2, 3, 4]\n",
    "    y = [10, 20, 25, 30]\n",
    "    if chart_type == 'Line':\n",
    "        ax.plot(x, y)\n",
    "    elif chart_type == 'Bar':\n",
    "        ax.bar(x, y)\n",
    "    # Add more chart types as needed\n",
    "    plt.close(fig)\n",
    "    return fig\n",
    "\n",
    "# Function to save a matplotlib figure to an image file and return the path\n",
    "def save_fig_to_image(fig):\n",
    "    with tempfile.NamedTemporaryFile(delete=False, suffix='.png') as tmpfile:\n",
    "        fig.savefig(tmpfile.name, format='png')\n",
    "        return tmpfile.name\n",
    "\n",
    "# Function to add a chart slide to the presentation\n",
    "def add_chart_slide(prs, chart_type):\n",
    "    slide_layout = prs.slide_layouts[5]  # Using a blank layout\n",
    "    slide = prs.slides.add_slide(slide_layout)\n",
    "    title = slide.shapes.title\n",
    "    title.text = \"Chart: \" + chart_type\n",
    "\n",
    "    fig = create_chart(chart_type)\n",
    "    img_path = save_fig_to_image(fig)\n",
    "\n",
    "    left = Inches(1)\n",
    "    top = Inches(1.5)\n",
    "    height = Inches(4.5)\n",
    "\n",
    "    slide.shapes.add_picture(img_path, left, top, height=height)\n",
    "    os.remove(img_path)\n",
    "\n",
    "# Widgets for user input\n",
    "template_select = widgets.Dropdown(options=['Portrait', 'Landscape'], description='Template:')\n",
    "graph_type_select = widgets.Dropdown(options=['Line', 'Bar', 'Scatter', 'Pie'], description='Graph Type:')\n",
    "refresh_button = widgets.Button(description='Display Graph')\n",
    "print_button = widgets.Button(description='Print PPT')\n",
    "output = widgets.Output()\n",
    "\n",
    "# Display function for the graph\n",
    "def on_refresh_clicked(b):\n",
    "    with output:\n",
    "        output.clear_output()\n",
    "        display(create_chart(graph_type_select.value))\n",
    "\n",
    "# Function to generate and print the PowerPoint presentation\n",
    "def on_print_clicked(b):\n",
    "    prs = Presentation()\n",
    "    if template_select.value == 'Landscape':\n",
    "        prs.slide_width = Inches(10)\n",
    "        prs.slide_height = Inches(7.5)\n",
    "    else:\n",
    "        prs.slide_width = Inches(7.5)\n",
    "        prs.slide_height = Inches(10)\n",
    "\n",
    "    add_chart_slide(prs, graph_type_select.value)\n",
    "\n",
    "    pptx_file = \"Generated_Presentation.pptx\"\n",
    "    prs.save(pptx_file)\n",
    "    \n",
    "    with output:\n",
    "        output.clear_output()\n",
    "        print(f\"Presentation saved as {pptx_file}.\")\n",
    "\n",
    "refresh_button.on_click(on_refresh_clicked)\n",
    "print_button.on_click(on_print_clicked)\n",
    "\n",
    "# Layout the widgets\n",
    "widgets.VBox([template_select, graph_type_select, refresh_button, print_button, output])\n"
   ]
  },
  {
   "cell_type": "code",
   "execution_count": null,
   "id": "b0ae0514",
   "metadata": {},
   "outputs": [],
   "source": []
  }
 ],
 "metadata": {
  "kernelspec": {
   "display_name": "Python 3",
   "language": "python",
   "name": "python3"
  },
  "language_info": {
   "codemirror_mode": {
    "name": "ipython",
    "version": 3
   },
   "file_extension": ".py",
   "mimetype": "text/x-python",
   "name": "python",
   "nbconvert_exporter": "python",
   "pygments_lexer": "ipython3",
   "version": "3.8.8"
  }
 },
 "nbformat": 4,
 "nbformat_minor": 5
}
